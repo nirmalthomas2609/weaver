{
 "cells": [
  {
   "cell_type": "code",
   "execution_count": 1,
   "id": "101a8632",
   "metadata": {},
   "outputs": [],
   "source": [
    "import onnx\n",
    "import torch\n",
    "import onnxruntime as ort\n",
    "import numpy as np\n",
    "\n",
    "\n",
    "class Model(torch.nn.Module):\n",
    "    def forward(self, data, indices):\n",
    "        output = [data]\n",
    "        if indices.size(dim = -1) > 1:\n",
    "            output = torch.tensor_split(data, indices[:-1])\n",
    "        return output\n",
    "    \n",
    "dynamic_axes = {'data': {0: 'n'}, 'indices': {0: 'm'}}\n",
    "input_names = ['data', 'indices']\n",
    "output_names = ['test_output']\n",
    "onnx_path = 'test_op.onnx'"
   ]
  },
  {
   "cell_type": "code",
   "execution_count": 2,
   "id": "822c3c14",
   "metadata": {},
   "outputs": [],
   "source": [
    "def to_numpy(tensor):\n",
    "    return tensor.detach().cpu().numpy() if tensor.requires_grad else tensor.cpu().numpy()"
   ]
  },
  {
   "cell_type": "code",
   "execution_count": 3,
   "id": "850f16a5",
   "metadata": {},
   "outputs": [],
   "source": [
    "model = Model()"
   ]
  },
  {
   "cell_type": "code",
   "execution_count": 4,
   "id": "4faf4998",
   "metadata": {},
   "outputs": [],
   "source": [
    "model = torch.jit.script(model)"
   ]
  },
  {
   "cell_type": "code",
   "execution_count": 5,
   "id": "757ffa3f",
   "metadata": {},
   "outputs": [
    {
     "data": {
      "text/plain": [
       "RecursiveScriptModule(original_name=Model)"
      ]
     },
     "execution_count": 5,
     "metadata": {},
     "output_type": "execute_result"
    }
   ],
   "source": [
    "model"
   ]
  },
  {
   "cell_type": "code",
   "execution_count": 6,
   "id": "76d98c3b",
   "metadata": {},
   "outputs": [
    {
     "data": {
      "text/plain": [
       "RecursiveScriptModule(original_name=Model)"
      ]
     },
     "execution_count": 6,
     "metadata": {},
     "output_type": "execute_result"
    }
   ],
   "source": [
    "model.eval()"
   ]
  },
  {
   "cell_type": "code",
   "execution_count": 7,
   "id": "e40616ef",
   "metadata": {},
   "outputs": [],
   "source": [
    "data = torch.rand((6, ), dtype = torch.float).to('cpu')\n",
    "indices = torch.tensor([1, 3, 5, 6]).to('cpu')"
   ]
  },
  {
   "cell_type": "code",
   "execution_count": 8,
   "id": "28963b80",
   "metadata": {},
   "outputs": [
    {
     "data": {
      "text/plain": [
       "(tensor([0.1599, 0.6062, 0.8264, 0.8728, 0.4459, 0.1708]),\n",
       " tensor([1, 3, 5, 6]))"
      ]
     },
     "execution_count": 8,
     "metadata": {},
     "output_type": "execute_result"
    }
   ],
   "source": [
    "temp_inputs = (data, indices)\n",
    "temp_inputs"
   ]
  },
  {
   "cell_type": "code",
   "execution_count": 9,
   "id": "1e37af13",
   "metadata": {},
   "outputs": [],
   "source": [
    "def create_ort_inputs(inputs, input_names):\n",
    "    return {name: to_numpy(inputs[index]) for (index, name) in enumerate(input_names)}"
   ]
  },
  {
   "cell_type": "code",
   "execution_count": 10,
   "id": "411b4115",
   "metadata": {},
   "outputs": [],
   "source": [
    "def run_ort_inference(onnx_path, inputs, input_names):\n",
    "    ort_session = ort.InferenceSession(onnx_path)\n",
    "    runSessionParams = ort.RunOptions()\n",
    "    runSessionParams.log_severity_level = 0\n",
    "    ort_out = ort_session.run(None, create_ort_inputs(inputs, input_names), run_options = runSessionParams)\n",
    "    return ort_out"
   ]
  },
  {
   "cell_type": "code",
   "execution_count": 11,
   "id": "8a35dbf6",
   "metadata": {},
   "outputs": [],
   "source": [
    "def run_pt_inference(model, inputs):\n",
    "    return model(*inputs)"
   ]
  },
  {
   "cell_type": "code",
   "execution_count": 12,
   "id": "07b92001",
   "metadata": {},
   "outputs": [],
   "source": [
    "def export_onnx(model, inputs, dynamic_axes, input_names, output_names, onnx_path, opset_version = 15):\n",
    "    torch.onnx.export(model, inputs, onnx_path, input_names=input_names, output_names=output_names, dynamic_axes=dynamic_axes, opset_version=opset_version)\n",
    "    model_output = run_pt_inference(model, inputs)\n",
    "    ort_output = run_ort_inference(onnx_path, inputs, input_names)\n",
    "    print (\"Model output - \\n{}\".format(model_output))\n",
    "    print (\"ORT output - \\n{}\".format(ort_output))"
   ]
  },
  {
   "cell_type": "code",
   "execution_count": 13,
   "id": "eb82e014",
   "metadata": {},
   "outputs": [
    {
     "name": "stdout",
     "output_type": "stream",
     "text": [
      "Model output - \n",
      "[tensor([0.1599]), tensor([0.6062, 0.8264]), tensor([0.8728, 0.4459]), tensor([0.1708])]\n",
      "ORT output - \n",
      "[[array([0.15993482], dtype=float32), array([0.6061704, 0.8263963], dtype=float32), array([0.8728442 , 0.44591272], dtype=float32), array([0.17079455], dtype=float32)]]\n"
     ]
    },
    {
     "name": "stderr",
     "output_type": "stream",
     "text": [
      "2022-05-27 00:25:05.731471 [I:onnxruntime:, sequential_executor.cc:176 Execute] Begin execution\n",
      "2022-05-27 00:25:05.731533 [I:onnxruntime:, sequential_executor.cc:176 Execute] Begin execution\n"
     ]
    }
   ],
   "source": [
    "export_onnx(model, temp_inputs, dynamic_axes, input_names, output_names, onnx_path)"
   ]
  },
  {
   "cell_type": "code",
   "execution_count": 14,
   "id": "77e50bd2",
   "metadata": {},
   "outputs": [
    {
     "data": {
      "text/plain": [
       "(tensor([0.6227, 0.2334, 0.1477, 0.3524, 0.3059, 0.0208, 0.4220, 0.8973, 0.2717]),\n",
       " tensor([1, 3, 5, 6, 8, 9]))"
      ]
     },
     "execution_count": 14,
     "metadata": {},
     "output_type": "execute_result"
    }
   ],
   "source": [
    "data = torch.rand((9, ), dtype = torch.float).to('cpu')\n",
    "indices = torch.tensor([1, 3, 5, 6, 8, 9]).to('cpu')\n",
    "temp_inputs = (data, indices)\n",
    "temp_inputs"
   ]
  },
  {
   "cell_type": "code",
   "execution_count": 15,
   "id": "9db7a887",
   "metadata": {},
   "outputs": [
    {
     "name": "stderr",
     "output_type": "stream",
     "text": [
      "2022-05-27 00:25:05.748837 [I:onnxruntime:, sequential_executor.cc:176 Execute] Begin execution\n",
      "2022-05-27 00:25:05.748870 [I:onnxruntime:, sequential_executor.cc:176 Execute] Begin execution\n"
     ]
    },
    {
     "data": {
      "text/plain": [
       "[[array([0.6227192], dtype=float32),\n",
       "  array([0.23342085, 0.14773607], dtype=float32),\n",
       "  array([0.3523618, 0.3059066], dtype=float32),\n",
       "  array([0.02083826], dtype=float32),\n",
       "  array([0.42197102, 0.8973381 ], dtype=float32),\n",
       "  array([0.2716781], dtype=float32)]]"
      ]
     },
     "execution_count": 15,
     "metadata": {},
     "output_type": "execute_result"
    }
   ],
   "source": [
    "run_ort_inference(onnx_path, temp_inputs, input_names)"
   ]
  },
  {
   "cell_type": "code",
   "execution_count": 16,
   "id": "9743937c",
   "metadata": {},
   "outputs": [
    {
     "data": {
      "text/plain": [
       "(tensor([0.1340, 0.3370, 0.9966, 0.5550, 0.2751, 0.7691, 0.3250, 0.4477, 0.3297,\n",
       "         0.7813]),\n",
       " tensor([10]))"
      ]
     },
     "execution_count": 16,
     "metadata": {},
     "output_type": "execute_result"
    }
   ],
   "source": [
    "data = torch.rand((10, ), dtype = torch.float).to('cpu')\n",
    "indices = torch.tensor([10]).to('cpu')\n",
    "temp_inputs = (data, indices)\n",
    "temp_inputs"
   ]
  },
  {
   "cell_type": "code",
   "execution_count": 17,
   "id": "78c8af0d",
   "metadata": {},
   "outputs": [
    {
     "name": "stderr",
     "output_type": "stream",
     "text": [
      "2022-05-27 00:25:05.771019 [I:onnxruntime:, sequential_executor.cc:176 Execute] Begin execution\n",
      "2022-05-27 00:25:05.771055 [I:onnxruntime:, sequential_executor.cc:176 Execute] Begin execution\n"
     ]
    },
    {
     "data": {
      "text/plain": [
       "[[array([0.13395113, 0.3369828 , 0.9966254 , 0.55499226, 0.27509874,\n",
       "         0.7691482 , 0.3250174 , 0.44767803, 0.32971817, 0.78128254],\n",
       "        dtype=float32)]]"
      ]
     },
     "execution_count": 17,
     "metadata": {},
     "output_type": "execute_result"
    }
   ],
   "source": [
    "run_ort_inference(onnx_path, temp_inputs, input_names)"
   ]
  }
 ],
 "metadata": {
  "kernelspec": {
   "display_name": "Python 3 (ipykernel)",
   "language": "python",
   "name": "python3"
  },
  "language_info": {
   "codemirror_mode": {
    "name": "ipython",
    "version": 3
   },
   "file_extension": ".py",
   "mimetype": "text/x-python",
   "name": "python",
   "nbconvert_exporter": "python",
   "pygments_lexer": "ipython3",
   "version": "3.8.2"
  }
 },
 "nbformat": 4,
 "nbformat_minor": 5
}
