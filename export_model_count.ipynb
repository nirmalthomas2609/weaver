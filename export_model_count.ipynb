{
 "cells": [
  {
   "cell_type": "code",
   "execution_count": 1,
   "id": "9afacb95",
   "metadata": {},
   "outputs": [],
   "source": [
    "import torch\n",
    "import numpy as np\n",
    "from utils.dataset import SimpleIterDataset\n",
    "import os"
   ]
  },
  {
   "cell_type": "code",
   "execution_count": 2,
   "id": "a8fb0465",
   "metadata": {},
   "outputs": [],
   "source": [
    "data_config_name = 'data/AK4/ak4_points_pf_sv_CHS_eta4p7.yaml'\n",
    "import networks.particle_net_ak4_pf_sv as network_module\n",
    "# export_onnx = \"../sonic-models/models/particlenet_AK4/1/model.onnx\"\n",
    "export_onnx = \"new_model.onnx\""
   ]
  },
  {
   "cell_type": "code",
   "execution_count": 3,
   "id": "8662a292",
   "metadata": {},
   "outputs": [],
   "source": [
    "model_state_dict = data_config_name.replace('.yaml','.pt')\n",
    "jit_model_save = data_config_name.replace('.yaml','_ragged_gpu_jit.pt')\n",
    "onnx_model = data_config_name.replace('.yaml','.onnx')"
   ]
  },
  {
   "cell_type": "code",
   "execution_count": 4,
   "id": "211b3d0e",
   "metadata": {},
   "outputs": [
    {
     "name": "stdout",
     "output_type": "stream",
     "text": [
      "K =  pf_points\n",
      "K =  pf_features\n",
      "K =  pf_mask\n",
      "K =  sv_points\n",
      "K =  sv_features\n",
      "K =  sv_mask\n"
     ]
    }
   ],
   "source": [
    "data_config = SimpleIterDataset([], data_config_name, for_training=False).config"
   ]
  },
  {
   "cell_type": "code",
   "execution_count": 5,
   "id": "12ec6520",
   "metadata": {},
   "outputs": [
    {
     "data": {
      "text/plain": [
       "<utils.data.config.DataConfig at 0x13cc6efa0>"
      ]
     },
     "execution_count": 5,
     "metadata": {},
     "output_type": "execute_result"
    }
   ],
   "source": [
    "data_config"
   ]
  },
  {
   "cell_type": "code",
   "execution_count": 6,
   "id": "e41ec5c2",
   "metadata": {},
   "outputs": [],
   "source": [
    "model, model_info = network_module.get_model(data_config, for_inference=True)"
   ]
  },
  {
   "cell_type": "code",
   "execution_count": 7,
   "id": "08fbf59e",
   "metadata": {},
   "outputs": [],
   "source": [
    "model = torch.jit.script(model)"
   ]
  },
  {
   "cell_type": "code",
   "execution_count": 8,
   "id": "3b743396",
   "metadata": {},
   "outputs": [
    {
     "data": {
      "text/plain": [
       "{'input_names': ['pf_points',\n",
       "  'pf_features',\n",
       "  'pf_mask',\n",
       "  'sv_points',\n",
       "  'sv_features',\n",
       "  'sv_mask',\n",
       "  'batch_count_pf_points',\n",
       "  'batch_count_pf_features',\n",
       "  'batch_count_pf_mask',\n",
       "  'batch_count_sv_points',\n",
       "  'batch_count_sv_features',\n",
       "  'batch_count_sv_mask'],\n",
       " 'input_shapes': {'pf_points': (100,),\n",
       "  'pf_features': (1000,),\n",
       "  'pf_mask': (50,),\n",
       "  'sv_points': (10,),\n",
       "  'sv_features': (55,),\n",
       "  'sv_mask': (5,),\n",
       "  'batch_count_pf_points': (1,),\n",
       "  'batch_count_pf_features': (1,),\n",
       "  'batch_count_pf_mask': (1,),\n",
       "  'batch_count_sv_points': (1,),\n",
       "  'batch_count_sv_features': (1,),\n",
       "  'batch_count_sv_mask': (1,)},\n",
       " 'output_names': ['softmax'],\n",
       " 'dynamic_axes': {'pf_points': {0: 'n_pf_points'},\n",
       "  'pf_features': {0: 'n_pf_features'},\n",
       "  'pf_mask': {0: 'n_pf_mask'},\n",
       "  'sv_points': {0: 'n_sv_points'},\n",
       "  'sv_features': {0: 'n_sv_features'},\n",
       "  'sv_mask': {0: 'n_sv_mask'},\n",
       "  'batch_count_pf_points': {0: 'N'},\n",
       "  'batch_count_pf_features': {0: 'N'},\n",
       "  'batch_count_pf_mask': {0: 'N'},\n",
       "  'batch_count_sv_points': {0: 'N'},\n",
       "  'batch_count_sv_features': {0: 'N'},\n",
       "  'batch_count_sv_mask': {0: 'N'},\n",
       "  'softmax': {0: 'N'}}}"
      ]
     },
     "execution_count": 8,
     "metadata": {},
     "output_type": "execute_result"
    }
   ],
   "source": [
    "model_info"
   ]
  },
  {
   "cell_type": "code",
   "execution_count": 9,
   "id": "0e202d81",
   "metadata": {},
   "outputs": [
    {
     "data": {
      "text/plain": [
       "<All keys matched successfully>"
      ]
     },
     "execution_count": 9,
     "metadata": {},
     "output_type": "execute_result"
    }
   ],
   "source": [
    "model.load_state_dict(torch.load(model_state_dict, map_location=torch.device('cpu')))"
   ]
  },
  {
   "cell_type": "code",
   "execution_count": 10,
   "id": "9ac70fa8",
   "metadata": {},
   "outputs": [
    {
     "data": {
      "text/plain": [
       "RecursiveScriptModule(\n",
       "  original_name=ParticleNetTagger\n",
       "  (pf_conv): RecursiveScriptModule(\n",
       "    original_name=FeatureConv\n",
       "    (conv): RecursiveScriptModule(\n",
       "      original_name=Sequential\n",
       "      (0): RecursiveScriptModule(original_name=BatchNorm1d)\n",
       "      (1): RecursiveScriptModule(original_name=Conv1d)\n",
       "      (2): RecursiveScriptModule(original_name=BatchNorm1d)\n",
       "      (3): RecursiveScriptModule(original_name=ReLU)\n",
       "    )\n",
       "  )\n",
       "  (sv_conv): RecursiveScriptModule(\n",
       "    original_name=FeatureConv\n",
       "    (conv): RecursiveScriptModule(\n",
       "      original_name=Sequential\n",
       "      (0): RecursiveScriptModule(original_name=BatchNorm1d)\n",
       "      (1): RecursiveScriptModule(original_name=Conv1d)\n",
       "      (2): RecursiveScriptModule(original_name=BatchNorm1d)\n",
       "      (3): RecursiveScriptModule(original_name=ReLU)\n",
       "    )\n",
       "  )\n",
       "  (pn): RecursiveScriptModule(\n",
       "    original_name=ParticleNet\n",
       "    (edge_convs): RecursiveScriptModule(\n",
       "      original_name=ModuleList\n",
       "      (0): RecursiveScriptModule(\n",
       "        original_name=EdgeConvBlock\n",
       "        (convs): RecursiveScriptModule(\n",
       "          original_name=ModuleList\n",
       "          (0): RecursiveScriptModule(original_name=Conv2d)\n",
       "          (1): RecursiveScriptModule(original_name=Conv2d)\n",
       "          (2): RecursiveScriptModule(original_name=Conv2d)\n",
       "        )\n",
       "        (bns): RecursiveScriptModule(\n",
       "          original_name=ModuleList\n",
       "          (0): RecursiveScriptModule(original_name=BatchNorm2d)\n",
       "          (1): RecursiveScriptModule(original_name=BatchNorm2d)\n",
       "          (2): RecursiveScriptModule(original_name=BatchNorm2d)\n",
       "        )\n",
       "        (acts): RecursiveScriptModule(\n",
       "          original_name=ModuleList\n",
       "          (0): RecursiveScriptModule(original_name=ReLU)\n",
       "          (1): RecursiveScriptModule(original_name=ReLU)\n",
       "          (2): RecursiveScriptModule(original_name=ReLU)\n",
       "        )\n",
       "        (sc): RecursiveScriptModule(original_name=Conv1d)\n",
       "        (sc_bn): RecursiveScriptModule(original_name=BatchNorm1d)\n",
       "        (sc_act): RecursiveScriptModule(original_name=ReLU)\n",
       "      )\n",
       "      (1): RecursiveScriptModule(\n",
       "        original_name=EdgeConvBlock\n",
       "        (convs): RecursiveScriptModule(\n",
       "          original_name=ModuleList\n",
       "          (0): RecursiveScriptModule(original_name=Conv2d)\n",
       "          (1): RecursiveScriptModule(original_name=Conv2d)\n",
       "          (2): RecursiveScriptModule(original_name=Conv2d)\n",
       "        )\n",
       "        (bns): RecursiveScriptModule(\n",
       "          original_name=ModuleList\n",
       "          (0): RecursiveScriptModule(original_name=BatchNorm2d)\n",
       "          (1): RecursiveScriptModule(original_name=BatchNorm2d)\n",
       "          (2): RecursiveScriptModule(original_name=BatchNorm2d)\n",
       "        )\n",
       "        (acts): RecursiveScriptModule(\n",
       "          original_name=ModuleList\n",
       "          (0): RecursiveScriptModule(original_name=ReLU)\n",
       "          (1): RecursiveScriptModule(original_name=ReLU)\n",
       "          (2): RecursiveScriptModule(original_name=ReLU)\n",
       "        )\n",
       "        (sc): RecursiveScriptModule(original_name=Conv1d)\n",
       "        (sc_bn): RecursiveScriptModule(original_name=BatchNorm1d)\n",
       "        (sc_act): RecursiveScriptModule(original_name=ReLU)\n",
       "      )\n",
       "      (2): RecursiveScriptModule(\n",
       "        original_name=EdgeConvBlock\n",
       "        (convs): RecursiveScriptModule(\n",
       "          original_name=ModuleList\n",
       "          (0): RecursiveScriptModule(original_name=Conv2d)\n",
       "          (1): RecursiveScriptModule(original_name=Conv2d)\n",
       "          (2): RecursiveScriptModule(original_name=Conv2d)\n",
       "        )\n",
       "        (bns): RecursiveScriptModule(\n",
       "          original_name=ModuleList\n",
       "          (0): RecursiveScriptModule(original_name=BatchNorm2d)\n",
       "          (1): RecursiveScriptModule(original_name=BatchNorm2d)\n",
       "          (2): RecursiveScriptModule(original_name=BatchNorm2d)\n",
       "        )\n",
       "        (acts): RecursiveScriptModule(\n",
       "          original_name=ModuleList\n",
       "          (0): RecursiveScriptModule(original_name=ReLU)\n",
       "          (1): RecursiveScriptModule(original_name=ReLU)\n",
       "          (2): RecursiveScriptModule(original_name=ReLU)\n",
       "        )\n",
       "        (sc): RecursiveScriptModule(original_name=Conv1d)\n",
       "        (sc_bn): RecursiveScriptModule(original_name=BatchNorm1d)\n",
       "        (sc_act): RecursiveScriptModule(original_name=ReLU)\n",
       "      )\n",
       "    )\n",
       "    (fusion_block): RecursiveScriptModule(\n",
       "      original_name=Sequential\n",
       "      (0): RecursiveScriptModule(original_name=Conv1d)\n",
       "      (1): RecursiveScriptModule(original_name=BatchNorm1d)\n",
       "      (2): RecursiveScriptModule(original_name=ReLU)\n",
       "    )\n",
       "    (fc): RecursiveScriptModule(\n",
       "      original_name=Sequential\n",
       "      (0): RecursiveScriptModule(\n",
       "        original_name=Sequential\n",
       "        (0): RecursiveScriptModule(original_name=Linear)\n",
       "        (1): RecursiveScriptModule(original_name=ReLU)\n",
       "        (2): RecursiveScriptModule(original_name=Dropout)\n",
       "      )\n",
       "      (1): RecursiveScriptModule(original_name=Linear)\n",
       "    )\n",
       "  )\n",
       ")"
      ]
     },
     "execution_count": 10,
     "metadata": {},
     "output_type": "execute_result"
    }
   ],
   "source": [
    "model.eval()"
   ]
  },
  {
   "cell_type": "code",
   "execution_count": 11,
   "id": "0bd69798",
   "metadata": {},
   "outputs": [],
   "source": [
    "device = 'cpu'\n",
    "pf_points = torch.ones((8,), dtype = torch.float).to(device)\n",
    "pf_features = torch.ones((80,), dtype = torch.float).to(device)\n",
    "pf_mask = torch.ones((4,), dtype = torch.float).to(device)\n",
    "sv_points = torch.ones((8,), dtype = torch.float).to(device)\n",
    "sv_features = torch.ones((44,), dtype = torch.float).to(device)\n",
    "sv_mask = torch.ones((4,), dtype = torch.float).to(device)\n",
    "\n",
    "batch_pf_points = torch.tensor([2, 4, 6, 8]).to(device)\n",
    "batch_pf_features = torch.tensor([20, 40, 60, 80]).to(device)\n",
    "batch_pf_mask = torch.tensor([1, 2, 3, 4]).to(device)\n",
    "batch_sv_points = torch.tensor([2, 4, 6, 8]).to(device)\n",
    "batch_sv_features = torch.tensor([11, 22, 33, 44]).to(device)\n",
    "batch_sv_mask = torch.tensor([1, 2, 3, 4]).to(device)\n",
    "\n",
    "# batch_pf_points = torch.tensor([2, 6, 14]).to(device)\n",
    "# batch_pf_features = torch.tensor([20, 60, 140]).to(device)\n",
    "# batch_pf_mask = torch.tensor([1, 3, 7]).to(device)\n",
    "# batch_sv_points = torch.tensor([2, 4, 6]).to(device)\n",
    "# batch_sv_features = torch.tensor([11, 22, 33]).to(device)\n",
    "# batch_sv_mask = torch.tensor([1, 2, 3]).to(device)"
   ]
  },
  {
   "cell_type": "code",
   "execution_count": 12,
   "id": "e327a78e",
   "metadata": {},
   "outputs": [],
   "source": [
    "temp_inputs = (pf_points, pf_features, pf_mask, sv_points, sv_features, sv_mask, batch_pf_points, batch_pf_features, batch_pf_mask, batch_sv_points, batch_sv_features, batch_sv_mask)"
   ]
  },
  {
   "cell_type": "code",
   "execution_count": 13,
   "id": "d5dde056",
   "metadata": {},
   "outputs": [
    {
     "name": "stdout",
     "output_type": "stream",
     "text": [
      "['pf_points', 'pf_features', 'pf_mask', 'sv_points', 'sv_features', 'sv_mask', 'batch_count_pf_points', 'batch_count_pf_features', 'batch_count_pf_mask', 'batch_count_sv_points', 'batch_count_sv_features', 'batch_count_sv_mask']\n"
     ]
    }
   ],
   "source": [
    "print (model_info['input_names'])"
   ]
  },
  {
   "cell_type": "code",
   "execution_count": 14,
   "id": "9a6f82a1",
   "metadata": {},
   "outputs": [
    {
     "data": {
      "text/plain": [
       "tensor([[7.1094e-03, 1.4923e-05, 4.3218e-02, 1.1983e-03, 3.9008e-01, 4.1971e-01,\n",
       "         4.6419e-02, 9.2248e-02],\n",
       "        [7.1094e-03, 1.4923e-05, 4.3218e-02, 1.1983e-03, 3.9008e-01, 4.1971e-01,\n",
       "         4.6419e-02, 9.2248e-02],\n",
       "        [7.1094e-03, 1.4923e-05, 4.3218e-02, 1.1983e-03, 3.9008e-01, 4.1971e-01,\n",
       "         4.6419e-02, 9.2248e-02],\n",
       "        [7.1094e-03, 1.4923e-05, 4.3218e-02, 1.1983e-03, 3.9008e-01, 4.1971e-01,\n",
       "         4.6419e-02, 9.2248e-02]], grad_fn=<SoftmaxBackward0>)"
      ]
     },
     "execution_count": 14,
     "metadata": {},
     "output_type": "execute_result"
    }
   ],
   "source": [
    "model(*temp_inputs)"
   ]
  },
  {
   "cell_type": "code",
   "execution_count": 15,
   "id": "92f89d87",
   "metadata": {},
   "outputs": [
    {
     "name": "stdout",
     "output_type": "stream",
     "text": [
      "<class 'torch.jit._script.RecursiveScriptModule'>\n"
     ]
    }
   ],
   "source": [
    "print(type(model))"
   ]
  },
  {
   "cell_type": "code",
   "execution_count": 16,
   "id": "25f9f216",
   "metadata": {},
   "outputs": [
    {
     "name": "stderr",
     "output_type": "stream",
     "text": [
      "/Users/nirmalthomas/Library/Python/3.8/lib/python/site-packages/torch/onnx/symbolic_helper.py:719: UserWarning: allowzero=0 by default. In order to honor zero value in shape use allowzero=1\n",
      "  warnings.warn(\"allowzero=0 by default. In order to honor zero value in shape use allowzero=1\")\n"
     ]
    }
   ],
   "source": [
    "torch.onnx.export(model, temp_inputs, export_onnx,\n",
    "                  input_names=model_info['input_names'],\n",
    "                  output_names=model_info['output_names'],\n",
    "                  dynamic_axes=model_info.get('dynamic_axes', None),\n",
    "                  opset_version=15)"
   ]
  },
  {
   "cell_type": "code",
   "execution_count": 17,
   "id": "60591437",
   "metadata": {},
   "outputs": [
    {
     "name": "stderr",
     "output_type": "stream",
     "text": [
      "2022-05-27 00:28:55.513883 [W:onnxruntime:, constant_folding.cc:202 ApplyImpl] Unsupported output type of N11onnxruntime22SequenceTensorTypeBaseE. Can't constant fold SequenceEmpty node 'SequenceEmpty_384'\n",
      "2022-05-27 00:28:55.528683 [W:onnxruntime:, graph.cc:3559 CleanUnusedInitializersAndNodeArgs] Removing initializer '158'. It is not used by any node and should be removed from the model.\n",
      "2022-05-27 00:28:55.528699 [W:onnxruntime:, graph.cc:3559 CleanUnusedInitializersAndNodeArgs] Removing initializer '147'. It is not used by any node and should be removed from the model.\n",
      "2022-05-27 00:28:55.528706 [W:onnxruntime:, graph.cc:3559 CleanUnusedInitializersAndNodeArgs] Removing initializer '159'. It is not used by any node and should be removed from the model.\n",
      "2022-05-27 00:28:55.528713 [W:onnxruntime:, graph.cc:3559 CleanUnusedInitializersAndNodeArgs] Removing initializer '160'. It is not used by any node and should be removed from the model.\n",
      "2022-05-27 00:28:55.528719 [W:onnxruntime:, graph.cc:3559 CleanUnusedInitializersAndNodeArgs] Removing initializer '161'. It is not used by any node and should be removed from the model.\n",
      "2022-05-27 00:28:55.528725 [W:onnxruntime:, graph.cc:3559 CleanUnusedInitializersAndNodeArgs] Removing initializer '156'. It is not used by any node and should be removed from the model.\n",
      "2022-05-27 00:28:55.528731 [W:onnxruntime:, graph.cc:3559 CleanUnusedInitializersAndNodeArgs] Removing initializer '146'. It is not used by any node and should be removed from the model.\n",
      "2022-05-27 00:28:55.528737 [W:onnxruntime:, graph.cc:3559 CleanUnusedInitializersAndNodeArgs] Removing initializer '157'. It is not used by any node and should be removed from the model.\n",
      "2022-05-27 00:28:55.528743 [W:onnxruntime:, graph.cc:3559 CleanUnusedInitializersAndNodeArgs] Removing initializer '162'. It is not used by any node and should be removed from the model.\n",
      "2022-05-27 00:28:55.528749 [W:onnxruntime:, graph.cc:3559 CleanUnusedInitializersAndNodeArgs] Removing initializer '151'. It is not used by any node and should be removed from the model.\n",
      "2022-05-27 00:28:55.528755 [W:onnxruntime:, graph.cc:3559 CleanUnusedInitializersAndNodeArgs] Removing initializer '148'. It is not used by any node and should be removed from the model.\n",
      "2022-05-27 00:28:55.528783 [W:onnxruntime:, graph.cc:3559 CleanUnusedInitializersAndNodeArgs] Removing initializer '221'. It is not used by any node and should be removed from the model.\n",
      "2022-05-27 00:28:55.528790 [W:onnxruntime:, graph.cc:3559 CleanUnusedInitializersAndNodeArgs] Removing initializer '232'. It is not used by any node and should be removed from the model.\n",
      "2022-05-27 00:28:55.528796 [W:onnxruntime:, graph.cc:3559 CleanUnusedInitializersAndNodeArgs] Removing initializer '231'. It is not used by any node and should be removed from the model.\n",
      "2022-05-27 00:28:55.528802 [W:onnxruntime:, graph.cc:3559 CleanUnusedInitializersAndNodeArgs] Removing initializer '234'. It is not used by any node and should be removed from the model.\n",
      "2022-05-27 00:28:55.528807 [W:onnxruntime:, graph.cc:3559 CleanUnusedInitializersAndNodeArgs] Removing initializer '235'. It is not used by any node and should be removed from the model.\n",
      "2022-05-27 00:28:55.528813 [W:onnxruntime:, graph.cc:3559 CleanUnusedInitializersAndNodeArgs] Removing initializer '225'. It is not used by any node and should be removed from the model.\n",
      "2022-05-27 00:28:55.528819 [W:onnxruntime:, graph.cc:3559 CleanUnusedInitializersAndNodeArgs] Removing initializer '233'. It is not used by any node and should be removed from the model.\n",
      "2022-05-27 00:28:55.528824 [W:onnxruntime:, graph.cc:3559 CleanUnusedInitializersAndNodeArgs] Removing initializer '230'. It is not used by any node and should be removed from the model.\n",
      "2022-05-27 00:28:55.528830 [W:onnxruntime:, graph.cc:3559 CleanUnusedInitializersAndNodeArgs] Removing initializer '222'. It is not used by any node and should be removed from the model.\n",
      "2022-05-27 00:28:55.528836 [W:onnxruntime:, graph.cc:3559 CleanUnusedInitializersAndNodeArgs] Removing initializer '220'. It is not used by any node and should be removed from the model.\n",
      "2022-05-27 00:28:55.528841 [W:onnxruntime:, graph.cc:3559 CleanUnusedInitializersAndNodeArgs] Removing initializer '236'. It is not used by any node and should be removed from the model.\n",
      "2022-05-27 00:28:55.528869 [W:onnxruntime:, graph.cc:3559 CleanUnusedInitializersAndNodeArgs] Removing initializer '305'. It is not used by any node and should be removed from the model.\n",
      "2022-05-27 00:28:55.528876 [W:onnxruntime:, graph.cc:3559 CleanUnusedInitializersAndNodeArgs] Removing initializer '295'. It is not used by any node and should be removed from the model.\n",
      "2022-05-27 00:28:55.528882 [W:onnxruntime:, graph.cc:3559 CleanUnusedInitializersAndNodeArgs] Removing initializer '309'. It is not used by any node and should be removed from the model.\n",
      "2022-05-27 00:28:55.528887 [W:onnxruntime:, graph.cc:3559 CleanUnusedInitializersAndNodeArgs] Removing initializer '294'. It is not used by any node and should be removed from the model.\n",
      "2022-05-27 00:28:55.528893 [W:onnxruntime:, graph.cc:3559 CleanUnusedInitializersAndNodeArgs] Removing initializer '296'. It is not used by any node and should be removed from the model.\n",
      "2022-05-27 00:28:55.528898 [W:onnxruntime:, graph.cc:3559 CleanUnusedInitializersAndNodeArgs] Removing initializer '299'. It is not used by any node and should be removed from the model.\n",
      "2022-05-27 00:28:55.528904 [W:onnxruntime:, graph.cc:3559 CleanUnusedInitializersAndNodeArgs] Removing initializer '308'. It is not used by any node and should be removed from the model.\n",
      "2022-05-27 00:28:55.528910 [W:onnxruntime:, graph.cc:3559 CleanUnusedInitializersAndNodeArgs] Removing initializer '307'. It is not used by any node and should be removed from the model.\n",
      "2022-05-27 00:28:55.528915 [W:onnxruntime:, graph.cc:3559 CleanUnusedInitializersAndNodeArgs] Removing initializer '304'. It is not used by any node and should be removed from the model.\n",
      "2022-05-27 00:28:55.528921 [W:onnxruntime:, graph.cc:3559 CleanUnusedInitializersAndNodeArgs] Removing initializer '306'. It is not used by any node and should be removed from the model.\n",
      "2022-05-27 00:28:55.528927 [W:onnxruntime:, graph.cc:3559 CleanUnusedInitializersAndNodeArgs] Removing initializer '310'. It is not used by any node and should be removed from the model.\n",
      "2022-05-27 00:28:55.528952 [W:onnxruntime:, graph.cc:3559 CleanUnusedInitializersAndNodeArgs] Removing initializer '384'. It is not used by any node and should be removed from the model.\n",
      "2022-05-27 00:28:55.528958 [W:onnxruntime:, graph.cc:3559 CleanUnusedInitializersAndNodeArgs] Removing initializer '380'. It is not used by any node and should be removed from the model.\n",
      "2022-05-27 00:28:55.528963 [W:onnxruntime:, graph.cc:3559 CleanUnusedInitializersAndNodeArgs] Removing initializer '379'. It is not used by any node and should be removed from the model.\n",
      "2022-05-27 00:28:55.528969 [W:onnxruntime:, graph.cc:3559 CleanUnusedInitializersAndNodeArgs] Removing initializer '383'. It is not used by any node and should be removed from the model.\n",
      "2022-05-27 00:28:55.528975 [W:onnxruntime:, graph.cc:3559 CleanUnusedInitializersAndNodeArgs] Removing initializer '369'. It is not used by any node and should be removed from the model.\n",
      "2022-05-27 00:28:55.528981 [W:onnxruntime:, graph.cc:3559 CleanUnusedInitializersAndNodeArgs] Removing initializer '370'. It is not used by any node and should be removed from the model.\n",
      "2022-05-27 00:28:55.528986 [W:onnxruntime:, graph.cc:3559 CleanUnusedInitializersAndNodeArgs] Removing initializer '381'. It is not used by any node and should be removed from the model.\n",
      "2022-05-27 00:28:55.528992 [W:onnxruntime:, graph.cc:3559 CleanUnusedInitializersAndNodeArgs] Removing initializer '378'. It is not used by any node and should be removed from the model.\n",
      "2022-05-27 00:28:55.528997 [W:onnxruntime:, graph.cc:3559 CleanUnusedInitializersAndNodeArgs] Removing initializer '373'. It is not used by any node and should be removed from the model.\n",
      "2022-05-27 00:28:55.529003 [W:onnxruntime:, graph.cc:3559 CleanUnusedInitializersAndNodeArgs] Removing initializer '382'. It is not used by any node and should be removed from the model.\n",
      "2022-05-27 00:28:55.529008 [W:onnxruntime:, graph.cc:3559 CleanUnusedInitializersAndNodeArgs] Removing initializer '368'. It is not used by any node and should be removed from the model.\n",
      "2022-05-27 00:28:55.529036 [W:onnxruntime:, graph.cc:3559 CleanUnusedInitializersAndNodeArgs] Removing initializer '458'. It is not used by any node and should be removed from the model.\n",
      "2022-05-27 00:28:55.529042 [W:onnxruntime:, graph.cc:3559 CleanUnusedInitializersAndNodeArgs] Removing initializer '453'. It is not used by any node and should be removed from the model.\n",
      "2022-05-27 00:28:55.529048 [W:onnxruntime:, graph.cc:3559 CleanUnusedInitializersAndNodeArgs] Removing initializer '455'. It is not used by any node and should be removed from the model.\n",
      "2022-05-27 00:28:55.529054 [W:onnxruntime:, graph.cc:3559 CleanUnusedInitializersAndNodeArgs] Removing initializer '454'. It is not used by any node and should be removed from the model.\n",
      "2022-05-27 00:28:55.529059 [W:onnxruntime:, graph.cc:3559 CleanUnusedInitializersAndNodeArgs] Removing initializer '456'. It is not used by any node and should be removed from the model.\n",
      "2022-05-27 00:28:55.529065 [W:onnxruntime:, graph.cc:3559 CleanUnusedInitializersAndNodeArgs] Removing initializer '443'. It is not used by any node and should be removed from the model.\n",
      "2022-05-27 00:28:55.529071 [W:onnxruntime:, graph.cc:3559 CleanUnusedInitializersAndNodeArgs] Removing initializer '452'. It is not used by any node and should be removed from the model.\n",
      "2022-05-27 00:28:55.529076 [W:onnxruntime:, graph.cc:3559 CleanUnusedInitializersAndNodeArgs] Removing initializer '447'. It is not used by any node and should be removed from the model.\n",
      "2022-05-27 00:28:55.529082 [W:onnxruntime:, graph.cc:3559 CleanUnusedInitializersAndNodeArgs] Removing initializer '444'. It is not used by any node and should be removed from the model.\n",
      "2022-05-27 00:28:55.529088 [W:onnxruntime:, graph.cc:3559 CleanUnusedInitializersAndNodeArgs] Removing initializer '457'. It is not used by any node and should be removed from the model.\n",
      "2022-05-27 00:28:55.529093 [W:onnxruntime:, graph.cc:3559 CleanUnusedInitializersAndNodeArgs] Removing initializer '442'. It is not used by any node and should be removed from the model.\n",
      "2022-05-27 00:28:55.529120 [W:onnxruntime:, graph.cc:3559 CleanUnusedInitializersAndNodeArgs] Removing initializer '532'. It is not used by any node and should be removed from the model.\n",
      "2022-05-27 00:28:55.529126 [W:onnxruntime:, graph.cc:3559 CleanUnusedInitializersAndNodeArgs] Removing initializer '518'. It is not used by any node and should be removed from the model.\n",
      "2022-05-27 00:28:55.529132 [W:onnxruntime:, graph.cc:3559 CleanUnusedInitializersAndNodeArgs] Removing initializer '528'. It is not used by any node and should be removed from the model.\n",
      "2022-05-27 00:28:55.529137 [W:onnxruntime:, graph.cc:3559 CleanUnusedInitializersAndNodeArgs] Removing initializer '527'. It is not used by any node and should be removed from the model.\n",
      "2022-05-27 00:28:55.529143 [W:onnxruntime:, graph.cc:3559 CleanUnusedInitializersAndNodeArgs] Removing initializer '517'. It is not used by any node and should be removed from the model.\n",
      "2022-05-27 00:28:55.529148 [W:onnxruntime:, graph.cc:3559 CleanUnusedInitializersAndNodeArgs] Removing initializer '531'. It is not used by any node and should be removed from the model.\n",
      "2022-05-27 00:28:55.529154 [W:onnxruntime:, graph.cc:3559 CleanUnusedInitializersAndNodeArgs] Removing initializer '526'. It is not used by any node and should be removed from the model.\n",
      "2022-05-27 00:28:55.529160 [W:onnxruntime:, graph.cc:3559 CleanUnusedInitializersAndNodeArgs] Removing initializer '521'. It is not used by any node and should be removed from the model.\n",
      "2022-05-27 00:28:55.529165 [W:onnxruntime:, graph.cc:3559 CleanUnusedInitializersAndNodeArgs] Removing initializer '530'. It is not used by any node and should be removed from the model.\n",
      "2022-05-27 00:28:55.529171 [W:onnxruntime:, graph.cc:3559 CleanUnusedInitializersAndNodeArgs] Removing initializer '516'. It is not used by any node and should be removed from the model.\n",
      "2022-05-27 00:28:55.529177 [W:onnxruntime:, graph.cc:3559 CleanUnusedInitializersAndNodeArgs] Removing initializer '529'. It is not used by any node and should be removed from the model.\n",
      "2022-05-27 00:28:55.531298 [W:onnxruntime:, constant_folding.cc:202 ApplyImpl] Unsupported output type of N11onnxruntime22SequenceTensorTypeBaseE. Can't constant fold SequenceEmpty node 'SequenceEmpty_384'\n",
      "2022-05-27 00:28:55.536844 [W:onnxruntime:, constant_folding.cc:202 ApplyImpl] Unsupported output type of N11onnxruntime22SequenceTensorTypeBaseE. Can't constant fold SequenceEmpty node 'SequenceEmpty_384'\n"
     ]
    }
   ],
   "source": [
    "import onnxruntime as ort\n",
    "# temp_path = \"/Users/nirmalthomas/Desktop/CMS/model.onnx\"\n",
    "temp_path = export_onnx\n",
    "ort_session = ort.InferenceSession(temp_path)"
   ]
  },
  {
   "cell_type": "code",
   "execution_count": 18,
   "id": "d9edf3bf",
   "metadata": {},
   "outputs": [],
   "source": [
    "def to_numpy(tensor):\n",
    "    return tensor.detach().cpu().numpy() if tensor.requires_grad else tensor.cpu().numpy()\n",
    "\n",
    "# compute ONNX Runtime output prediction\n",
    "ort_inputs = {\n",
    "              'pf_points': to_numpy(pf_points),\n",
    "              'pf_features': to_numpy(pf_features),\n",
    "              'pf_mask': to_numpy(pf_mask),\n",
    "              'sv_points': to_numpy(sv_points),\n",
    "              'sv_features': to_numpy(sv_features),\n",
    "              'sv_mask': to_numpy(sv_mask),\n",
    "              'batch_count_pf_points': to_numpy(batch_pf_points),\n",
    "              'batch_count_pf_features': to_numpy(batch_pf_features),\n",
    "              'batch_count_pf_mask': to_numpy(batch_pf_mask),\n",
    "              'batch_count_sv_points': to_numpy(batch_sv_points),\n",
    "              'batch_count_sv_features': to_numpy(batch_sv_features),\n",
    "              'batch_count_sv_mask': to_numpy(batch_sv_mask) \n",
    "             }"
   ]
  },
  {
   "cell_type": "code",
   "execution_count": 19,
   "id": "da4f6ef4",
   "metadata": {},
   "outputs": [
    {
     "name": "stdout",
     "output_type": "stream",
     "text": [
      "ORT inputs -  {'pf_points': array([1., 1., 1., 1., 1., 1., 1., 1.], dtype=float32), 'pf_features': array([1., 1., 1., 1., 1., 1., 1., 1., 1., 1., 1., 1., 1., 1., 1., 1., 1.,\n",
      "       1., 1., 1., 1., 1., 1., 1., 1., 1., 1., 1., 1., 1., 1., 1., 1., 1.,\n",
      "       1., 1., 1., 1., 1., 1., 1., 1., 1., 1., 1., 1., 1., 1., 1., 1., 1.,\n",
      "       1., 1., 1., 1., 1., 1., 1., 1., 1., 1., 1., 1., 1., 1., 1., 1., 1.,\n",
      "       1., 1., 1., 1., 1., 1., 1., 1., 1., 1., 1., 1.], dtype=float32), 'pf_mask': array([1., 1., 1., 1.], dtype=float32), 'sv_points': array([1., 1., 1., 1., 1., 1., 1., 1.], dtype=float32), 'sv_features': array([1., 1., 1., 1., 1., 1., 1., 1., 1., 1., 1., 1., 1., 1., 1., 1., 1.,\n",
      "       1., 1., 1., 1., 1., 1., 1., 1., 1., 1., 1., 1., 1., 1., 1., 1., 1.,\n",
      "       1., 1., 1., 1., 1., 1., 1., 1., 1., 1.], dtype=float32), 'sv_mask': array([1., 1., 1., 1.], dtype=float32), 'batch_count_pf_points': array([2, 4, 6, 8]), 'batch_count_pf_features': array([20, 40, 60, 80]), 'batch_count_pf_mask': array([1, 2, 3, 4]), 'batch_count_sv_points': array([2, 4, 6, 8]), 'batch_count_sv_features': array([11, 22, 33, 44]), 'batch_count_sv_mask': array([1, 2, 3, 4])}\n"
     ]
    }
   ],
   "source": [
    "print (\"ORT inputs - \", ort_inputs)"
   ]
  },
  {
   "cell_type": "code",
   "execution_count": 20,
   "id": "ffd27229",
   "metadata": {},
   "outputs": [],
   "source": [
    "runSessionParams = ort.RunOptions()\n",
    "runSessionParams.log_severity_level = 0"
   ]
  },
  {
   "cell_type": "code",
   "execution_count": 21,
   "id": "bd6a5722",
   "metadata": {},
   "outputs": [
    {
     "name": "stderr",
     "output_type": "stream",
     "text": [
      "2022-05-27 00:28:55.652872 [I:onnxruntime:, sequential_executor.cc:176 Execute] Begin execution\n",
      "2022-05-27 00:28:55.652943 [I:onnxruntime:, sequential_executor.cc:176 Execute] Begin execution\n",
      "2022-05-27 00:28:55.653051 [I:onnxruntime:, sequential_executor.cc:176 Execute] Begin execution\n",
      "2022-05-27 00:28:55.653118 [I:onnxruntime:, sequential_executor.cc:176 Execute] Begin execution\n",
      "2022-05-27 00:28:55.653149 [I:onnxruntime:, sequential_executor.cc:176 Execute] Begin execution\n",
      "2022-05-27 00:28:55.653178 [I:onnxruntime:, sequential_executor.cc:176 Execute] Begin execution\n",
      "2022-05-27 00:28:55.653234 [I:onnxruntime:, sequential_executor.cc:176 Execute] Begin execution\n",
      "2022-05-27 00:28:55.653273 [I:onnxruntime:, sequential_executor.cc:176 Execute] Begin execution\n",
      "2022-05-27 00:28:55.653305 [I:onnxruntime:, sequential_executor.cc:176 Execute] Begin execution\n",
      "2022-05-27 00:28:55.653332 [I:onnxruntime:, sequential_executor.cc:176 Execute] Begin execution\n",
      "2022-05-27 00:28:55.653360 [I:onnxruntime:, sequential_executor.cc:176 Execute] Begin execution\n",
      "2022-05-27 00:28:55.653479 [I:onnxruntime:, sequential_executor.cc:176 Execute] Begin execution\n",
      "2022-05-27 00:28:55.653518 [I:onnxruntime:, sequential_executor.cc:176 Execute] Begin execution\n",
      "2022-05-27 00:28:55.653550 [I:onnxruntime:, sequential_executor.cc:176 Execute] Begin execution\n",
      "2022-05-27 00:28:55.653577 [I:onnxruntime:, sequential_executor.cc:176 Execute] Begin execution\n",
      "2022-05-27 00:28:55.653609 [I:onnxruntime:, sequential_executor.cc:176 Execute] Begin execution\n",
      "2022-05-27 00:28:55.653656 [I:onnxruntime:, sequential_executor.cc:176 Execute] Begin execution\n",
      "2022-05-27 00:28:55.653692 [I:onnxruntime:, sequential_executor.cc:176 Execute] Begin execution\n",
      "2022-05-27 00:28:55.653730 [I:onnxruntime:, sequential_executor.cc:176 Execute] Begin execution\n",
      "2022-05-27 00:28:55.653765 [I:onnxruntime:, sequential_executor.cc:176 Execute] Begin execution\n",
      "2022-05-27 00:28:55.653799 [I:onnxruntime:, sequential_executor.cc:176 Execute] Begin execution\n",
      "2022-05-27 00:28:55.654397 [I:onnxruntime:, sequential_executor.cc:176 Execute] Begin execution\n",
      "2022-05-27 00:28:55.654441 [I:onnxruntime:, sequential_executor.cc:176 Execute] Begin execution\n",
      "2022-05-27 00:28:55.654473 [I:onnxruntime:, sequential_executor.cc:176 Execute] Begin execution\n",
      "2022-05-27 00:28:55.654500 [I:onnxruntime:, sequential_executor.cc:176 Execute] Begin execution\n",
      "2022-05-27 00:28:55.654527 [I:onnxruntime:, sequential_executor.cc:176 Execute] Begin execution\n",
      "2022-05-27 00:28:55.654571 [I:onnxruntime:, sequential_executor.cc:176 Execute] Begin execution\n",
      "2022-05-27 00:28:55.654604 [I:onnxruntime:, sequential_executor.cc:176 Execute] Begin execution\n",
      "2022-05-27 00:28:55.654634 [I:onnxruntime:, sequential_executor.cc:176 Execute] Begin execution\n",
      "2022-05-27 00:28:55.654660 [I:onnxruntime:, sequential_executor.cc:176 Execute] Begin execution\n",
      "2022-05-27 00:28:55.654687 [I:onnxruntime:, sequential_executor.cc:176 Execute] Begin execution\n"
     ]
    }
   ],
   "source": [
    "ort_out = ort_session.run(None, ort_inputs, run_options = runSessionParams)"
   ]
  },
  {
   "cell_type": "code",
   "execution_count": 22,
   "id": "a1231002",
   "metadata": {},
   "outputs": [
    {
     "data": {
      "text/plain": [
       "[array([[7.1094264e-03, 1.4922640e-05, 4.3217994e-02, 1.1982591e-03,\n",
       "         3.9007923e-01, 4.1971451e-01, 4.6418600e-02, 9.2247054e-02],\n",
       "        [7.1094264e-03, 1.4922640e-05, 4.3217994e-02, 1.1982591e-03,\n",
       "         3.9007923e-01, 4.1971451e-01, 4.6418600e-02, 9.2247054e-02],\n",
       "        [7.1094264e-03, 1.4922640e-05, 4.3217994e-02, 1.1982591e-03,\n",
       "         3.9007923e-01, 4.1971451e-01, 4.6418600e-02, 9.2247054e-02],\n",
       "        [7.1094264e-03, 1.4922640e-05, 4.3217994e-02, 1.1982591e-03,\n",
       "         3.9007923e-01, 4.1971451e-01, 4.6418600e-02, 9.2247054e-02]],\n",
       "       dtype=float32)]"
      ]
     },
     "execution_count": 22,
     "metadata": {},
     "output_type": "execute_result"
    }
   ],
   "source": [
    "ort_out"
   ]
  },
  {
   "cell_type": "code",
   "execution_count": 23,
   "id": "8aa66fc8",
   "metadata": {},
   "outputs": [
    {
     "data": {
      "text/plain": [
       "tensor([[7.1094e-03, 1.4923e-05, 4.3218e-02, 1.1983e-03, 3.9008e-01, 4.1971e-01,\n",
       "         4.6419e-02, 9.2248e-02],\n",
       "        [7.1094e-03, 1.4923e-05, 4.3218e-02, 1.1983e-03, 3.9008e-01, 4.1971e-01,\n",
       "         4.6419e-02, 9.2248e-02],\n",
       "        [7.1094e-03, 1.4923e-05, 4.3218e-02, 1.1983e-03, 3.9008e-01, 4.1971e-01,\n",
       "         4.6419e-02, 9.2248e-02],\n",
       "        [7.1094e-03, 1.4923e-05, 4.3218e-02, 1.1983e-03, 3.9008e-01, 4.1971e-01,\n",
       "         4.6419e-02, 9.2248e-02]], grad_fn=<SoftmaxBackward0>)"
      ]
     },
     "execution_count": 23,
     "metadata": {},
     "output_type": "execute_result"
    }
   ],
   "source": [
    "model(*temp_inputs)"
   ]
  },
  {
   "cell_type": "code",
   "execution_count": 24,
   "id": "562c4d55",
   "metadata": {},
   "outputs": [
    {
     "name": "stdout",
     "output_type": "stream",
     "text": [
      "Node # - 0\n",
      "Name - pf_points\n",
      "Shape - ['n_pf_points']\n",
      "Type - tensor(float)\n",
      "\n",
      "Node # - 1\n",
      "Name - pf_features\n",
      "Shape - ['n_pf_features']\n",
      "Type - tensor(float)\n",
      "\n",
      "Node # - 2\n",
      "Name - pf_mask\n",
      "Shape - ['n_pf_mask']\n",
      "Type - tensor(float)\n",
      "\n",
      "Node # - 3\n",
      "Name - sv_points\n",
      "Shape - ['n_sv_points']\n",
      "Type - tensor(float)\n",
      "\n",
      "Node # - 4\n",
      "Name - sv_features\n",
      "Shape - ['n_sv_features']\n",
      "Type - tensor(float)\n",
      "\n",
      "Node # - 5\n",
      "Name - sv_mask\n",
      "Shape - ['n_sv_mask']\n",
      "Type - tensor(float)\n",
      "\n",
      "Node # - 6\n",
      "Name - batch_count_pf_points\n",
      "Shape - ['N']\n",
      "Type - tensor(int64)\n",
      "\n",
      "Node # - 7\n",
      "Name - batch_count_pf_features\n",
      "Shape - ['N']\n",
      "Type - tensor(int64)\n",
      "\n",
      "Node # - 8\n",
      "Name - batch_count_pf_mask\n",
      "Shape - ['N']\n",
      "Type - tensor(int64)\n",
      "\n",
      "Node # - 9\n",
      "Name - batch_count_sv_points\n",
      "Shape - ['N']\n",
      "Type - tensor(int64)\n",
      "\n",
      "Node # - 10\n",
      "Name - batch_count_sv_features\n",
      "Shape - ['N']\n",
      "Type - tensor(int64)\n",
      "\n",
      "Node # - 11\n",
      "Name - batch_count_sv_mask\n",
      "Shape - ['N']\n",
      "Type - tensor(int64)\n",
      "\n"
     ]
    }
   ],
   "source": [
    "for index, item in enumerate(ort_session.get_inputs()):\n",
    "    print (\"Node # - {}\".format(index))\n",
    "    print (\"Name - {}\".format(item.name))\n",
    "    print (\"Shape - {}\".format(item.shape))\n",
    "    print (\"Type - {}\\n\".format(item.type))"
   ]
  },
  {
   "cell_type": "code",
   "execution_count": 25,
   "id": "574b0b65",
   "metadata": {},
   "outputs": [],
   "source": [
    "def create_ort_inputs(inputs, input_names):\n",
    "    return {name: to_numpy(inputs[index]) for (index, name) in enumerate(input_names)}"
   ]
  },
  {
   "cell_type": "code",
   "execution_count": 26,
   "id": "90dea340",
   "metadata": {},
   "outputs": [],
   "source": [
    "def run_ort_inference(onnx_path, inputs, input_names):\n",
    "    ort_session = ort.InferenceSession(onnx_path)\n",
    "    runSessionParams = ort.RunOptions()\n",
    "    runSessionParams.log_severity_level = 0\n",
    "    ort_out = ort_session.run(None, create_ort_inputs(inputs, input_names), run_options = runSessionParams)\n",
    "    return ort_out"
   ]
  },
  {
   "cell_type": "code",
   "execution_count": 27,
   "id": "218ea150",
   "metadata": {},
   "outputs": [],
   "source": [
    "def run_pt_inference(model, inputs):\n",
    "    return model(*inputs)"
   ]
  },
  {
   "cell_type": "code",
   "execution_count": 28,
   "id": "f79daaa8",
   "metadata": {},
   "outputs": [],
   "source": [
    "def export_onnx(model, inputs, dynamic_axes, input_names, output_names, onnx_path, opset_version = 15):\n",
    "    torch.onnx.export(model, inputs, onnx_path, input_names=input_names, output_names=output_names, dynamic_axes=dynamic_axes, opset_version=opset_version)\n",
    "    model_output = run_pt_inference(model, inputs)\n",
    "    ort_output = run_ort_inference(onnx_path, inputs, input_names)\n",
    "    print (\"Model output - \\n{}\".format(model_output))\n",
    "    print (\"ORT output - \\n{}\".format(ort_output))"
   ]
  },
  {
   "cell_type": "code",
   "execution_count": null,
   "id": "acd08b6d",
   "metadata": {},
   "outputs": [],
   "source": [
    "def get_model(model_type):\n",
    "    data_config_name = 'data/AK4/ak4_points_pf_sv_CHS_eta4p7.yaml'\n",
    "    import networks.particle_net_ak4_pf_sv as network_module\n",
    "    # export_onnx = \"../sonic-models/models/particlenet_AK4/1/model.onnx\"\n",
    "    export_onnx = \"new_model.onnx\""
   ]
  }
 ],
 "metadata": {
  "kernelspec": {
   "display_name": "Python 3 (ipykernel)",
   "language": "python",
   "name": "python3"
  },
  "language_info": {
   "codemirror_mode": {
    "name": "ipython",
    "version": 3
   },
   "file_extension": ".py",
   "mimetype": "text/x-python",
   "name": "python",
   "nbconvert_exporter": "python",
   "pygments_lexer": "ipython3",
   "version": "3.8.2"
  }
 },
 "nbformat": 4,
 "nbformat_minor": 5
}
