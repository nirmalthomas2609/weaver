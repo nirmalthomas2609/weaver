{
 "cells": [
  {
   "cell_type": "code",
   "execution_count": 1,
   "id": "9afacb95",
   "metadata": {},
   "outputs": [],
   "source": [
    "import torch\n",
    "import numpy as np\n",
    "from utils.dataset import SimpleIterDataset\n",
    "import os"
   ]
  },
  {
   "cell_type": "code",
   "execution_count": 2,
   "id": "a8fb0465",
   "metadata": {},
   "outputs": [],
   "source": [
    "data_config_name = 'data/AK4/ak4_points_pf_sv_CHS_eta4p7.yaml'"
   ]
  },
  {
   "cell_type": "code",
   "execution_count": 3,
   "id": "8662a292",
   "metadata": {},
   "outputs": [],
   "source": [
    "model_state_dict = data_config_name.replace('.yaml','.pt')\n",
    "jit_model_save = data_config_name.replace('.yaml','_ragged_gpu_jit.pt')\n",
    "onnx_model = data_config_name.replace('.yaml','.onnx')"
   ]
  },
  {
   "cell_type": "code",
   "execution_count": 4,
   "id": "211b3d0e",
   "metadata": {},
   "outputs": [],
   "source": [
    "data_config = SimpleIterDataset([], data_config_name, for_training=False).config"
   ]
  },
  {
   "cell_type": "code",
   "execution_count": 5,
   "id": "12ec6520",
   "metadata": {},
   "outputs": [
    {
     "data": {
      "text/plain": [
       "<utils.data.config.DataConfig at 0x1061f0ee0>"
      ]
     },
     "execution_count": 5,
     "metadata": {},
     "output_type": "execute_result"
    }
   ],
   "source": [
    "data_config"
   ]
  },
  {
   "cell_type": "code",
   "execution_count": 6,
   "id": "284762b0",
   "metadata": {},
   "outputs": [],
   "source": [
    "import networks.particle_net_pf_sv as network_module"
   ]
  },
  {
   "cell_type": "code",
   "execution_count": 7,
   "id": "e41ec5c2",
   "metadata": {},
   "outputs": [],
   "source": [
    "model, model_info = network_module.get_model(data_config, for_inference=True)"
   ]
  },
  {
   "cell_type": "code",
   "execution_count": 8,
   "id": "3b743396",
   "metadata": {},
   "outputs": [
    {
     "data": {
      "text/plain": [
       "{'input_names': ['pf_points',\n",
       "  'pf_features',\n",
       "  'pf_mask',\n",
       "  'sv_points',\n",
       "  'sv_features',\n",
       "  'sv_mask',\n",
       "  'batch_shapes_pf_points',\n",
       "  'batch_shapes_pf_features',\n",
       "  'batch_shapes_pf_mask',\n",
       "  'batch_shapes_sv_points',\n",
       "  'batch_shapes_sv_features',\n",
       "  'batch_shapes_sv_mask'],\n",
       " 'input_shapes': {'pf_points': (100,),\n",
       "  'pf_features': (1000,),\n",
       "  'pf_mask': (50,),\n",
       "  'sv_points': (10,),\n",
       "  'sv_features': (55,),\n",
       "  'sv_mask': (5,),\n",
       "  'batch_shapes_pf_points': (1, 2),\n",
       "  'batch_shapes_pf_features': (1, 2),\n",
       "  'batch_shapes_pf_mask': (1, 2),\n",
       "  'batch_shapes_sv_points': (1, 2),\n",
       "  'batch_shapes_sv_features': (1, 2),\n",
       "  'batch_shapes_sv_mask': (1, 2)},\n",
       " 'output_names': ['softmax'],\n",
       " 'dynamic_axes': {'pf_points': {0: 'n_pf'},\n",
       "  'pf_features': {0: 'n_pf'},\n",
       "  'pf_mask': {0: 'n_pf'},\n",
       "  'sv_points': {0: 'n_sv'},\n",
       "  'sv_features': {0: 'n_sv'},\n",
       "  'sv_mask': {0: 'n_sv'},\n",
       "  'batch_shapes_pf_points': {0: 'N'},\n",
       "  'batch_shapes_pf_features': {0: 'N'},\n",
       "  'batch_shapes_pf_mask': {0: 'N'},\n",
       "  'batch_shapes_sv_points': {0: 'N'},\n",
       "  'batch_shapes_sv_features': {0: 'N'},\n",
       "  'batch_shapes_sv_mask': {0: 'N'},\n",
       "  'softmax': {0: 'N'}}}"
      ]
     },
     "execution_count": 8,
     "metadata": {},
     "output_type": "execute_result"
    }
   ],
   "source": [
    "model_info"
   ]
  },
  {
   "cell_type": "code",
   "execution_count": 9,
   "id": "33e87fd3",
   "metadata": {},
   "outputs": [
    {
     "data": {
      "text/plain": [
       "ParticleNetTagger(\n",
       "  (pf_conv): FeatureConv(\n",
       "    (conv): Sequential(\n",
       "      (0): BatchNorm1d(20, eps=1e-05, momentum=0.1, affine=True, track_running_stats=True)\n",
       "      (1): Conv1d(20, 32, kernel_size=(1,), stride=(1,), bias=False)\n",
       "      (2): BatchNorm1d(32, eps=1e-05, momentum=0.1, affine=True, track_running_stats=True)\n",
       "      (3): ReLU()\n",
       "    )\n",
       "  )\n",
       "  (sv_conv): FeatureConv(\n",
       "    (conv): Sequential(\n",
       "      (0): BatchNorm1d(11, eps=1e-05, momentum=0.1, affine=True, track_running_stats=True)\n",
       "      (1): Conv1d(11, 32, kernel_size=(1,), stride=(1,), bias=False)\n",
       "      (2): BatchNorm1d(32, eps=1e-05, momentum=0.1, affine=True, track_running_stats=True)\n",
       "      (3): ReLU()\n",
       "    )\n",
       "  )\n",
       "  (pn): ParticleNet(\n",
       "    (edge_convs): ModuleList(\n",
       "      (0): EdgeConvBlock(\n",
       "        (convs): ModuleList(\n",
       "          (0): Conv2d(64, 64, kernel_size=(1, 1), stride=(1, 1), bias=False)\n",
       "          (1): Conv2d(64, 64, kernel_size=(1, 1), stride=(1, 1), bias=False)\n",
       "          (2): Conv2d(64, 64, kernel_size=(1, 1), stride=(1, 1), bias=False)\n",
       "        )\n",
       "        (bns): ModuleList(\n",
       "          (0): BatchNorm2d(64, eps=1e-05, momentum=0.1, affine=True, track_running_stats=True)\n",
       "          (1): BatchNorm2d(64, eps=1e-05, momentum=0.1, affine=True, track_running_stats=True)\n",
       "          (2): BatchNorm2d(64, eps=1e-05, momentum=0.1, affine=True, track_running_stats=True)\n",
       "        )\n",
       "        (acts): ModuleList(\n",
       "          (0): ReLU()\n",
       "          (1): ReLU()\n",
       "          (2): ReLU()\n",
       "        )\n",
       "        (sc): Conv1d(32, 64, kernel_size=(1,), stride=(1,), bias=False)\n",
       "        (sc_bn): BatchNorm1d(64, eps=1e-05, momentum=0.1, affine=True, track_running_stats=True)\n",
       "        (sc_act): ReLU()\n",
       "      )\n",
       "      (1): EdgeConvBlock(\n",
       "        (convs): ModuleList(\n",
       "          (0): Conv2d(128, 128, kernel_size=(1, 1), stride=(1, 1), bias=False)\n",
       "          (1): Conv2d(128, 128, kernel_size=(1, 1), stride=(1, 1), bias=False)\n",
       "          (2): Conv2d(128, 128, kernel_size=(1, 1), stride=(1, 1), bias=False)\n",
       "        )\n",
       "        (bns): ModuleList(\n",
       "          (0): BatchNorm2d(128, eps=1e-05, momentum=0.1, affine=True, track_running_stats=True)\n",
       "          (1): BatchNorm2d(128, eps=1e-05, momentum=0.1, affine=True, track_running_stats=True)\n",
       "          (2): BatchNorm2d(128, eps=1e-05, momentum=0.1, affine=True, track_running_stats=True)\n",
       "        )\n",
       "        (acts): ModuleList(\n",
       "          (0): ReLU()\n",
       "          (1): ReLU()\n",
       "          (2): ReLU()\n",
       "        )\n",
       "        (sc): Conv1d(64, 128, kernel_size=(1,), stride=(1,), bias=False)\n",
       "        (sc_bn): BatchNorm1d(128, eps=1e-05, momentum=0.1, affine=True, track_running_stats=True)\n",
       "        (sc_act): ReLU()\n",
       "      )\n",
       "      (2): EdgeConvBlock(\n",
       "        (convs): ModuleList(\n",
       "          (0): Conv2d(256, 256, kernel_size=(1, 1), stride=(1, 1), bias=False)\n",
       "          (1): Conv2d(256, 256, kernel_size=(1, 1), stride=(1, 1), bias=False)\n",
       "          (2): Conv2d(256, 256, kernel_size=(1, 1), stride=(1, 1), bias=False)\n",
       "        )\n",
       "        (bns): ModuleList(\n",
       "          (0): BatchNorm2d(256, eps=1e-05, momentum=0.1, affine=True, track_running_stats=True)\n",
       "          (1): BatchNorm2d(256, eps=1e-05, momentum=0.1, affine=True, track_running_stats=True)\n",
       "          (2): BatchNorm2d(256, eps=1e-05, momentum=0.1, affine=True, track_running_stats=True)\n",
       "        )\n",
       "        (acts): ModuleList(\n",
       "          (0): ReLU()\n",
       "          (1): ReLU()\n",
       "          (2): ReLU()\n",
       "        )\n",
       "        (sc): Conv1d(128, 256, kernel_size=(1,), stride=(1,), bias=False)\n",
       "        (sc_bn): BatchNorm1d(256, eps=1e-05, momentum=0.1, affine=True, track_running_stats=True)\n",
       "        (sc_act): ReLU()\n",
       "      )\n",
       "    )\n",
       "    (fusion_block): Sequential(\n",
       "      (0): Conv1d(448, 384, kernel_size=(1,), stride=(1,), bias=False)\n",
       "      (1): BatchNorm1d(384, eps=1e-05, momentum=0.1, affine=True, track_running_stats=True)\n",
       "      (2): ReLU()\n",
       "    )\n",
       "    (fc): Sequential(\n",
       "      (0): Sequential(\n",
       "        (0): Linear(in_features=384, out_features=256, bias=True)\n",
       "        (1): ReLU()\n",
       "        (2): Dropout(p=0.1, inplace=False)\n",
       "      )\n",
       "      (1): Linear(in_features=256, out_features=8, bias=True)\n",
       "    )\n",
       "  )\n",
       ")"
      ]
     },
     "execution_count": 9,
     "metadata": {},
     "output_type": "execute_result"
    }
   ],
   "source": [
    "model.to('cpu')"
   ]
  },
  {
   "cell_type": "code",
   "execution_count": 10,
   "id": "0e202d81",
   "metadata": {},
   "outputs": [],
   "source": [
    "# model.load_state_dict(torch.load(model_state_dict, map_location=torch.device('cpu')))"
   ]
  },
  {
   "cell_type": "code",
   "execution_count": 11,
   "id": "17e9f29a",
   "metadata": {},
   "outputs": [
    {
     "data": {
      "text/plain": [
       "ParticleNetTagger(\n",
       "  (pf_conv): FeatureConv(\n",
       "    (conv): Sequential(\n",
       "      (0): BatchNorm1d(20, eps=1e-05, momentum=0.1, affine=True, track_running_stats=True)\n",
       "      (1): Conv1d(20, 32, kernel_size=(1,), stride=(1,), bias=False)\n",
       "      (2): BatchNorm1d(32, eps=1e-05, momentum=0.1, affine=True, track_running_stats=True)\n",
       "      (3): ReLU()\n",
       "    )\n",
       "  )\n",
       "  (sv_conv): FeatureConv(\n",
       "    (conv): Sequential(\n",
       "      (0): BatchNorm1d(11, eps=1e-05, momentum=0.1, affine=True, track_running_stats=True)\n",
       "      (1): Conv1d(11, 32, kernel_size=(1,), stride=(1,), bias=False)\n",
       "      (2): BatchNorm1d(32, eps=1e-05, momentum=0.1, affine=True, track_running_stats=True)\n",
       "      (3): ReLU()\n",
       "    )\n",
       "  )\n",
       "  (pn): ParticleNet(\n",
       "    (edge_convs): ModuleList(\n",
       "      (0): EdgeConvBlock(\n",
       "        (convs): ModuleList(\n",
       "          (0): Conv2d(64, 64, kernel_size=(1, 1), stride=(1, 1), bias=False)\n",
       "          (1): Conv2d(64, 64, kernel_size=(1, 1), stride=(1, 1), bias=False)\n",
       "          (2): Conv2d(64, 64, kernel_size=(1, 1), stride=(1, 1), bias=False)\n",
       "        )\n",
       "        (bns): ModuleList(\n",
       "          (0): BatchNorm2d(64, eps=1e-05, momentum=0.1, affine=True, track_running_stats=True)\n",
       "          (1): BatchNorm2d(64, eps=1e-05, momentum=0.1, affine=True, track_running_stats=True)\n",
       "          (2): BatchNorm2d(64, eps=1e-05, momentum=0.1, affine=True, track_running_stats=True)\n",
       "        )\n",
       "        (acts): ModuleList(\n",
       "          (0): ReLU()\n",
       "          (1): ReLU()\n",
       "          (2): ReLU()\n",
       "        )\n",
       "        (sc): Conv1d(32, 64, kernel_size=(1,), stride=(1,), bias=False)\n",
       "        (sc_bn): BatchNorm1d(64, eps=1e-05, momentum=0.1, affine=True, track_running_stats=True)\n",
       "        (sc_act): ReLU()\n",
       "      )\n",
       "      (1): EdgeConvBlock(\n",
       "        (convs): ModuleList(\n",
       "          (0): Conv2d(128, 128, kernel_size=(1, 1), stride=(1, 1), bias=False)\n",
       "          (1): Conv2d(128, 128, kernel_size=(1, 1), stride=(1, 1), bias=False)\n",
       "          (2): Conv2d(128, 128, kernel_size=(1, 1), stride=(1, 1), bias=False)\n",
       "        )\n",
       "        (bns): ModuleList(\n",
       "          (0): BatchNorm2d(128, eps=1e-05, momentum=0.1, affine=True, track_running_stats=True)\n",
       "          (1): BatchNorm2d(128, eps=1e-05, momentum=0.1, affine=True, track_running_stats=True)\n",
       "          (2): BatchNorm2d(128, eps=1e-05, momentum=0.1, affine=True, track_running_stats=True)\n",
       "        )\n",
       "        (acts): ModuleList(\n",
       "          (0): ReLU()\n",
       "          (1): ReLU()\n",
       "          (2): ReLU()\n",
       "        )\n",
       "        (sc): Conv1d(64, 128, kernel_size=(1,), stride=(1,), bias=False)\n",
       "        (sc_bn): BatchNorm1d(128, eps=1e-05, momentum=0.1, affine=True, track_running_stats=True)\n",
       "        (sc_act): ReLU()\n",
       "      )\n",
       "      (2): EdgeConvBlock(\n",
       "        (convs): ModuleList(\n",
       "          (0): Conv2d(256, 256, kernel_size=(1, 1), stride=(1, 1), bias=False)\n",
       "          (1): Conv2d(256, 256, kernel_size=(1, 1), stride=(1, 1), bias=False)\n",
       "          (2): Conv2d(256, 256, kernel_size=(1, 1), stride=(1, 1), bias=False)\n",
       "        )\n",
       "        (bns): ModuleList(\n",
       "          (0): BatchNorm2d(256, eps=1e-05, momentum=0.1, affine=True, track_running_stats=True)\n",
       "          (1): BatchNorm2d(256, eps=1e-05, momentum=0.1, affine=True, track_running_stats=True)\n",
       "          (2): BatchNorm2d(256, eps=1e-05, momentum=0.1, affine=True, track_running_stats=True)\n",
       "        )\n",
       "        (acts): ModuleList(\n",
       "          (0): ReLU()\n",
       "          (1): ReLU()\n",
       "          (2): ReLU()\n",
       "        )\n",
       "        (sc): Conv1d(128, 256, kernel_size=(1,), stride=(1,), bias=False)\n",
       "        (sc_bn): BatchNorm1d(256, eps=1e-05, momentum=0.1, affine=True, track_running_stats=True)\n",
       "        (sc_act): ReLU()\n",
       "      )\n",
       "    )\n",
       "    (fusion_block): Sequential(\n",
       "      (0): Conv1d(448, 384, kernel_size=(1,), stride=(1,), bias=False)\n",
       "      (1): BatchNorm1d(384, eps=1e-05, momentum=0.1, affine=True, track_running_stats=True)\n",
       "      (2): ReLU()\n",
       "    )\n",
       "    (fc): Sequential(\n",
       "      (0): Sequential(\n",
       "        (0): Linear(in_features=384, out_features=256, bias=True)\n",
       "        (1): ReLU()\n",
       "        (2): Dropout(p=0.1, inplace=False)\n",
       "      )\n",
       "      (1): Linear(in_features=256, out_features=8, bias=True)\n",
       "    )\n",
       "  )\n",
       ")"
      ]
     },
     "execution_count": 11,
     "metadata": {},
     "output_type": "execute_result"
    }
   ],
   "source": [
    "model.eval()"
   ]
  },
  {
   "cell_type": "code",
   "execution_count": 12,
   "id": "daba142d",
   "metadata": {},
   "outputs": [
    {
     "name": "stdout",
     "output_type": "stream",
     "text": [
      "ParticleNetTagger(\n",
      "  (pf_conv): FeatureConv(\n",
      "    (conv): Sequential(\n",
      "      (0): BatchNorm1d(20, eps=1e-05, momentum=0.1, affine=True, track_running_stats=True)\n",
      "      (1): Conv1d(20, 32, kernel_size=(1,), stride=(1,), bias=False)\n",
      "      (2): BatchNorm1d(32, eps=1e-05, momentum=0.1, affine=True, track_running_stats=True)\n",
      "      (3): ReLU()\n",
      "    )\n",
      "  )\n",
      "  (sv_conv): FeatureConv(\n",
      "    (conv): Sequential(\n",
      "      (0): BatchNorm1d(11, eps=1e-05, momentum=0.1, affine=True, track_running_stats=True)\n",
      "      (1): Conv1d(11, 32, kernel_size=(1,), stride=(1,), bias=False)\n",
      "      (2): BatchNorm1d(32, eps=1e-05, momentum=0.1, affine=True, track_running_stats=True)\n",
      "      (3): ReLU()\n",
      "    )\n",
      "  )\n",
      "  (pn): ParticleNet(\n",
      "    (edge_convs): ModuleList(\n",
      "      (0): EdgeConvBlock(\n",
      "        (convs): ModuleList(\n",
      "          (0): Conv2d(64, 64, kernel_size=(1, 1), stride=(1, 1), bias=False)\n",
      "          (1): Conv2d(64, 64, kernel_size=(1, 1), stride=(1, 1), bias=False)\n",
      "          (2): Conv2d(64, 64, kernel_size=(1, 1), stride=(1, 1), bias=False)\n",
      "        )\n",
      "        (bns): ModuleList(\n",
      "          (0): BatchNorm2d(64, eps=1e-05, momentum=0.1, affine=True, track_running_stats=True)\n",
      "          (1): BatchNorm2d(64, eps=1e-05, momentum=0.1, affine=True, track_running_stats=True)\n",
      "          (2): BatchNorm2d(64, eps=1e-05, momentum=0.1, affine=True, track_running_stats=True)\n",
      "        )\n",
      "        (acts): ModuleList(\n",
      "          (0): ReLU()\n",
      "          (1): ReLU()\n",
      "          (2): ReLU()\n",
      "        )\n",
      "        (sc): Conv1d(32, 64, kernel_size=(1,), stride=(1,), bias=False)\n",
      "        (sc_bn): BatchNorm1d(64, eps=1e-05, momentum=0.1, affine=True, track_running_stats=True)\n",
      "        (sc_act): ReLU()\n",
      "      )\n",
      "      (1): EdgeConvBlock(\n",
      "        (convs): ModuleList(\n",
      "          (0): Conv2d(128, 128, kernel_size=(1, 1), stride=(1, 1), bias=False)\n",
      "          (1): Conv2d(128, 128, kernel_size=(1, 1), stride=(1, 1), bias=False)\n",
      "          (2): Conv2d(128, 128, kernel_size=(1, 1), stride=(1, 1), bias=False)\n",
      "        )\n",
      "        (bns): ModuleList(\n",
      "          (0): BatchNorm2d(128, eps=1e-05, momentum=0.1, affine=True, track_running_stats=True)\n",
      "          (1): BatchNorm2d(128, eps=1e-05, momentum=0.1, affine=True, track_running_stats=True)\n",
      "          (2): BatchNorm2d(128, eps=1e-05, momentum=0.1, affine=True, track_running_stats=True)\n",
      "        )\n",
      "        (acts): ModuleList(\n",
      "          (0): ReLU()\n",
      "          (1): ReLU()\n",
      "          (2): ReLU()\n",
      "        )\n",
      "        (sc): Conv1d(64, 128, kernel_size=(1,), stride=(1,), bias=False)\n",
      "        (sc_bn): BatchNorm1d(128, eps=1e-05, momentum=0.1, affine=True, track_running_stats=True)\n",
      "        (sc_act): ReLU()\n",
      "      )\n",
      "      (2): EdgeConvBlock(\n",
      "        (convs): ModuleList(\n",
      "          (0): Conv2d(256, 256, kernel_size=(1, 1), stride=(1, 1), bias=False)\n",
      "          (1): Conv2d(256, 256, kernel_size=(1, 1), stride=(1, 1), bias=False)\n",
      "          (2): Conv2d(256, 256, kernel_size=(1, 1), stride=(1, 1), bias=False)\n",
      "        )\n",
      "        (bns): ModuleList(\n",
      "          (0): BatchNorm2d(256, eps=1e-05, momentum=0.1, affine=True, track_running_stats=True)\n",
      "          (1): BatchNorm2d(256, eps=1e-05, momentum=0.1, affine=True, track_running_stats=True)\n",
      "          (2): BatchNorm2d(256, eps=1e-05, momentum=0.1, affine=True, track_running_stats=True)\n",
      "        )\n",
      "        (acts): ModuleList(\n",
      "          (0): ReLU()\n",
      "          (1): ReLU()\n",
      "          (2): ReLU()\n",
      "        )\n",
      "        (sc): Conv1d(128, 256, kernel_size=(1,), stride=(1,), bias=False)\n",
      "        (sc_bn): BatchNorm1d(256, eps=1e-05, momentum=0.1, affine=True, track_running_stats=True)\n",
      "        (sc_act): ReLU()\n",
      "      )\n",
      "    )\n",
      "    (fusion_block): Sequential(\n",
      "      (0): Conv1d(448, 384, kernel_size=(1,), stride=(1,), bias=False)\n",
      "      (1): BatchNorm1d(384, eps=1e-05, momentum=0.1, affine=True, track_running_stats=True)\n",
      "      (2): ReLU()\n",
      "    )\n",
      "    (fc): Sequential(\n",
      "      (0): Sequential(\n",
      "        (0): Linear(in_features=384, out_features=256, bias=True)\n",
      "        (1): ReLU()\n",
      "        (2): Dropout(p=0.1, inplace=False)\n",
      "      )\n",
      "      (1): Linear(in_features=256, out_features=8, bias=True)\n",
      "    )\n",
      "  )\n",
      ")\n"
     ]
    }
   ],
   "source": [
    "print(model)"
   ]
  },
  {
   "cell_type": "code",
   "execution_count": 13,
   "id": "5a5ce9f3",
   "metadata": {},
   "outputs": [],
   "source": [
    "from train import onnx"
   ]
  },
  {
   "cell_type": "code",
   "execution_count": 14,
   "id": "6dba1ea5",
   "metadata": {},
   "outputs": [],
   "source": [
    "model = model.cpu()"
   ]
  },
  {
   "cell_type": "code",
   "execution_count": 15,
   "id": "9ac70fa8",
   "metadata": {},
   "outputs": [
    {
     "data": {
      "text/plain": [
       "ParticleNetTagger(\n",
       "  (pf_conv): FeatureConv(\n",
       "    (conv): Sequential(\n",
       "      (0): BatchNorm1d(20, eps=1e-05, momentum=0.1, affine=True, track_running_stats=True)\n",
       "      (1): Conv1d(20, 32, kernel_size=(1,), stride=(1,), bias=False)\n",
       "      (2): BatchNorm1d(32, eps=1e-05, momentum=0.1, affine=True, track_running_stats=True)\n",
       "      (3): ReLU()\n",
       "    )\n",
       "  )\n",
       "  (sv_conv): FeatureConv(\n",
       "    (conv): Sequential(\n",
       "      (0): BatchNorm1d(11, eps=1e-05, momentum=0.1, affine=True, track_running_stats=True)\n",
       "      (1): Conv1d(11, 32, kernel_size=(1,), stride=(1,), bias=False)\n",
       "      (2): BatchNorm1d(32, eps=1e-05, momentum=0.1, affine=True, track_running_stats=True)\n",
       "      (3): ReLU()\n",
       "    )\n",
       "  )\n",
       "  (pn): ParticleNet(\n",
       "    (edge_convs): ModuleList(\n",
       "      (0): EdgeConvBlock(\n",
       "        (convs): ModuleList(\n",
       "          (0): Conv2d(64, 64, kernel_size=(1, 1), stride=(1, 1), bias=False)\n",
       "          (1): Conv2d(64, 64, kernel_size=(1, 1), stride=(1, 1), bias=False)\n",
       "          (2): Conv2d(64, 64, kernel_size=(1, 1), stride=(1, 1), bias=False)\n",
       "        )\n",
       "        (bns): ModuleList(\n",
       "          (0): BatchNorm2d(64, eps=1e-05, momentum=0.1, affine=True, track_running_stats=True)\n",
       "          (1): BatchNorm2d(64, eps=1e-05, momentum=0.1, affine=True, track_running_stats=True)\n",
       "          (2): BatchNorm2d(64, eps=1e-05, momentum=0.1, affine=True, track_running_stats=True)\n",
       "        )\n",
       "        (acts): ModuleList(\n",
       "          (0): ReLU()\n",
       "          (1): ReLU()\n",
       "          (2): ReLU()\n",
       "        )\n",
       "        (sc): Conv1d(32, 64, kernel_size=(1,), stride=(1,), bias=False)\n",
       "        (sc_bn): BatchNorm1d(64, eps=1e-05, momentum=0.1, affine=True, track_running_stats=True)\n",
       "        (sc_act): ReLU()\n",
       "      )\n",
       "      (1): EdgeConvBlock(\n",
       "        (convs): ModuleList(\n",
       "          (0): Conv2d(128, 128, kernel_size=(1, 1), stride=(1, 1), bias=False)\n",
       "          (1): Conv2d(128, 128, kernel_size=(1, 1), stride=(1, 1), bias=False)\n",
       "          (2): Conv2d(128, 128, kernel_size=(1, 1), stride=(1, 1), bias=False)\n",
       "        )\n",
       "        (bns): ModuleList(\n",
       "          (0): BatchNorm2d(128, eps=1e-05, momentum=0.1, affine=True, track_running_stats=True)\n",
       "          (1): BatchNorm2d(128, eps=1e-05, momentum=0.1, affine=True, track_running_stats=True)\n",
       "          (2): BatchNorm2d(128, eps=1e-05, momentum=0.1, affine=True, track_running_stats=True)\n",
       "        )\n",
       "        (acts): ModuleList(\n",
       "          (0): ReLU()\n",
       "          (1): ReLU()\n",
       "          (2): ReLU()\n",
       "        )\n",
       "        (sc): Conv1d(64, 128, kernel_size=(1,), stride=(1,), bias=False)\n",
       "        (sc_bn): BatchNorm1d(128, eps=1e-05, momentum=0.1, affine=True, track_running_stats=True)\n",
       "        (sc_act): ReLU()\n",
       "      )\n",
       "      (2): EdgeConvBlock(\n",
       "        (convs): ModuleList(\n",
       "          (0): Conv2d(256, 256, kernel_size=(1, 1), stride=(1, 1), bias=False)\n",
       "          (1): Conv2d(256, 256, kernel_size=(1, 1), stride=(1, 1), bias=False)\n",
       "          (2): Conv2d(256, 256, kernel_size=(1, 1), stride=(1, 1), bias=False)\n",
       "        )\n",
       "        (bns): ModuleList(\n",
       "          (0): BatchNorm2d(256, eps=1e-05, momentum=0.1, affine=True, track_running_stats=True)\n",
       "          (1): BatchNorm2d(256, eps=1e-05, momentum=0.1, affine=True, track_running_stats=True)\n",
       "          (2): BatchNorm2d(256, eps=1e-05, momentum=0.1, affine=True, track_running_stats=True)\n",
       "        )\n",
       "        (acts): ModuleList(\n",
       "          (0): ReLU()\n",
       "          (1): ReLU()\n",
       "          (2): ReLU()\n",
       "        )\n",
       "        (sc): Conv1d(128, 256, kernel_size=(1,), stride=(1,), bias=False)\n",
       "        (sc_bn): BatchNorm1d(256, eps=1e-05, momentum=0.1, affine=True, track_running_stats=True)\n",
       "        (sc_act): ReLU()\n",
       "      )\n",
       "    )\n",
       "    (fusion_block): Sequential(\n",
       "      (0): Conv1d(448, 384, kernel_size=(1,), stride=(1,), bias=False)\n",
       "      (1): BatchNorm1d(384, eps=1e-05, momentum=0.1, affine=True, track_running_stats=True)\n",
       "      (2): ReLU()\n",
       "    )\n",
       "    (fc): Sequential(\n",
       "      (0): Sequential(\n",
       "        (0): Linear(in_features=384, out_features=256, bias=True)\n",
       "        (1): ReLU()\n",
       "        (2): Dropout(p=0.1, inplace=False)\n",
       "      )\n",
       "      (1): Linear(in_features=256, out_features=8, bias=True)\n",
       "    )\n",
       "  )\n",
       ")"
      ]
     },
     "execution_count": 15,
     "metadata": {},
     "output_type": "execute_result"
    }
   ],
   "source": [
    "model.eval()"
   ]
  },
  {
   "cell_type": "code",
   "execution_count": 16,
   "id": "cd18a70a",
   "metadata": {},
   "outputs": [],
   "source": [
    "export_onnx = \"ragged_inputs_model.onnx\""
   ]
  },
  {
   "cell_type": "code",
   "execution_count": 17,
   "id": "980d3866",
   "metadata": {},
   "outputs": [],
   "source": [
    "    inputs = tuple(\n",
    "        torch.ones(model_info['input_shapes'][k], dtype=torch.float32) if ('batch_shapes_' not in k) else (torch.tensor([[len(data_config.input_dicts[k.replace('batch_shapes_', '')]), data_config.input_length[k.replace('batch_shapes_', '')]]], dtype=torch.int32)) for k in model_info['input_names'])"
   ]
  },
  {
   "cell_type": "code",
   "execution_count": 18,
   "id": "16d3b461",
   "metadata": {},
   "outputs": [
    {
     "data": {
      "text/plain": [
       "(tensor([1., 1., 1., 1., 1., 1., 1., 1., 1., 1., 1., 1., 1., 1., 1., 1., 1., 1.,\n",
       "         1., 1., 1., 1., 1., 1., 1., 1., 1., 1., 1., 1., 1., 1., 1., 1., 1., 1.,\n",
       "         1., 1., 1., 1., 1., 1., 1., 1., 1., 1., 1., 1., 1., 1., 1., 1., 1., 1.,\n",
       "         1., 1., 1., 1., 1., 1., 1., 1., 1., 1., 1., 1., 1., 1., 1., 1., 1., 1.,\n",
       "         1., 1., 1., 1., 1., 1., 1., 1., 1., 1., 1., 1., 1., 1., 1., 1., 1., 1.,\n",
       "         1., 1., 1., 1., 1., 1., 1., 1., 1., 1.]),\n",
       " tensor([1., 1., 1., 1., 1., 1., 1., 1., 1., 1., 1., 1., 1., 1., 1., 1., 1., 1.,\n",
       "         1., 1., 1., 1., 1., 1., 1., 1., 1., 1., 1., 1., 1., 1., 1., 1., 1., 1.,\n",
       "         1., 1., 1., 1., 1., 1., 1., 1., 1., 1., 1., 1., 1., 1., 1., 1., 1., 1.,\n",
       "         1., 1., 1., 1., 1., 1., 1., 1., 1., 1., 1., 1., 1., 1., 1., 1., 1., 1.,\n",
       "         1., 1., 1., 1., 1., 1., 1., 1., 1., 1., 1., 1., 1., 1., 1., 1., 1., 1.,\n",
       "         1., 1., 1., 1., 1., 1., 1., 1., 1., 1., 1., 1., 1., 1., 1., 1., 1., 1.,\n",
       "         1., 1., 1., 1., 1., 1., 1., 1., 1., 1., 1., 1., 1., 1., 1., 1., 1., 1.,\n",
       "         1., 1., 1., 1., 1., 1., 1., 1., 1., 1., 1., 1., 1., 1., 1., 1., 1., 1.,\n",
       "         1., 1., 1., 1., 1., 1., 1., 1., 1., 1., 1., 1., 1., 1., 1., 1., 1., 1.,\n",
       "         1., 1., 1., 1., 1., 1., 1., 1., 1., 1., 1., 1., 1., 1., 1., 1., 1., 1.,\n",
       "         1., 1., 1., 1., 1., 1., 1., 1., 1., 1., 1., 1., 1., 1., 1., 1., 1., 1.,\n",
       "         1., 1., 1., 1., 1., 1., 1., 1., 1., 1., 1., 1., 1., 1., 1., 1., 1., 1.,\n",
       "         1., 1., 1., 1., 1., 1., 1., 1., 1., 1., 1., 1., 1., 1., 1., 1., 1., 1.,\n",
       "         1., 1., 1., 1., 1., 1., 1., 1., 1., 1., 1., 1., 1., 1., 1., 1., 1., 1.,\n",
       "         1., 1., 1., 1., 1., 1., 1., 1., 1., 1., 1., 1., 1., 1., 1., 1., 1., 1.,\n",
       "         1., 1., 1., 1., 1., 1., 1., 1., 1., 1., 1., 1., 1., 1., 1., 1., 1., 1.,\n",
       "         1., 1., 1., 1., 1., 1., 1., 1., 1., 1., 1., 1., 1., 1., 1., 1., 1., 1.,\n",
       "         1., 1., 1., 1., 1., 1., 1., 1., 1., 1., 1., 1., 1., 1., 1., 1., 1., 1.,\n",
       "         1., 1., 1., 1., 1., 1., 1., 1., 1., 1., 1., 1., 1., 1., 1., 1., 1., 1.,\n",
       "         1., 1., 1., 1., 1., 1., 1., 1., 1., 1., 1., 1., 1., 1., 1., 1., 1., 1.,\n",
       "         1., 1., 1., 1., 1., 1., 1., 1., 1., 1., 1., 1., 1., 1., 1., 1., 1., 1.,\n",
       "         1., 1., 1., 1., 1., 1., 1., 1., 1., 1., 1., 1., 1., 1., 1., 1., 1., 1.,\n",
       "         1., 1., 1., 1., 1., 1., 1., 1., 1., 1., 1., 1., 1., 1., 1., 1., 1., 1.,\n",
       "         1., 1., 1., 1., 1., 1., 1., 1., 1., 1., 1., 1., 1., 1., 1., 1., 1., 1.,\n",
       "         1., 1., 1., 1., 1., 1., 1., 1., 1., 1., 1., 1., 1., 1., 1., 1., 1., 1.,\n",
       "         1., 1., 1., 1., 1., 1., 1., 1., 1., 1., 1., 1., 1., 1., 1., 1., 1., 1.,\n",
       "         1., 1., 1., 1., 1., 1., 1., 1., 1., 1., 1., 1., 1., 1., 1., 1., 1., 1.,\n",
       "         1., 1., 1., 1., 1., 1., 1., 1., 1., 1., 1., 1., 1., 1., 1., 1., 1., 1.,\n",
       "         1., 1., 1., 1., 1., 1., 1., 1., 1., 1., 1., 1., 1., 1., 1., 1., 1., 1.,\n",
       "         1., 1., 1., 1., 1., 1., 1., 1., 1., 1., 1., 1., 1., 1., 1., 1., 1., 1.,\n",
       "         1., 1., 1., 1., 1., 1., 1., 1., 1., 1., 1., 1., 1., 1., 1., 1., 1., 1.,\n",
       "         1., 1., 1., 1., 1., 1., 1., 1., 1., 1., 1., 1., 1., 1., 1., 1., 1., 1.,\n",
       "         1., 1., 1., 1., 1., 1., 1., 1., 1., 1., 1., 1., 1., 1., 1., 1., 1., 1.,\n",
       "         1., 1., 1., 1., 1., 1., 1., 1., 1., 1., 1., 1., 1., 1., 1., 1., 1., 1.,\n",
       "         1., 1., 1., 1., 1., 1., 1., 1., 1., 1., 1., 1., 1., 1., 1., 1., 1., 1.,\n",
       "         1., 1., 1., 1., 1., 1., 1., 1., 1., 1., 1., 1., 1., 1., 1., 1., 1., 1.,\n",
       "         1., 1., 1., 1., 1., 1., 1., 1., 1., 1., 1., 1., 1., 1., 1., 1., 1., 1.,\n",
       "         1., 1., 1., 1., 1., 1., 1., 1., 1., 1., 1., 1., 1., 1., 1., 1., 1., 1.,\n",
       "         1., 1., 1., 1., 1., 1., 1., 1., 1., 1., 1., 1., 1., 1., 1., 1., 1., 1.,\n",
       "         1., 1., 1., 1., 1., 1., 1., 1., 1., 1., 1., 1., 1., 1., 1., 1., 1., 1.,\n",
       "         1., 1., 1., 1., 1., 1., 1., 1., 1., 1., 1., 1., 1., 1., 1., 1., 1., 1.,\n",
       "         1., 1., 1., 1., 1., 1., 1., 1., 1., 1., 1., 1., 1., 1., 1., 1., 1., 1.,\n",
       "         1., 1., 1., 1., 1., 1., 1., 1., 1., 1., 1., 1., 1., 1., 1., 1., 1., 1.,\n",
       "         1., 1., 1., 1., 1., 1., 1., 1., 1., 1., 1., 1., 1., 1., 1., 1., 1., 1.,\n",
       "         1., 1., 1., 1., 1., 1., 1., 1., 1., 1., 1., 1., 1., 1., 1., 1., 1., 1.,\n",
       "         1., 1., 1., 1., 1., 1., 1., 1., 1., 1., 1., 1., 1., 1., 1., 1., 1., 1.,\n",
       "         1., 1., 1., 1., 1., 1., 1., 1., 1., 1., 1., 1., 1., 1., 1., 1., 1., 1.,\n",
       "         1., 1., 1., 1., 1., 1., 1., 1., 1., 1., 1., 1., 1., 1., 1., 1., 1., 1.,\n",
       "         1., 1., 1., 1., 1., 1., 1., 1., 1., 1., 1., 1., 1., 1., 1., 1., 1., 1.,\n",
       "         1., 1., 1., 1., 1., 1., 1., 1., 1., 1., 1., 1., 1., 1., 1., 1., 1., 1.,\n",
       "         1., 1., 1., 1., 1., 1., 1., 1., 1., 1., 1., 1., 1., 1., 1., 1., 1., 1.,\n",
       "         1., 1., 1., 1., 1., 1., 1., 1., 1., 1., 1., 1., 1., 1., 1., 1., 1., 1.,\n",
       "         1., 1., 1., 1., 1., 1., 1., 1., 1., 1., 1., 1., 1., 1., 1., 1., 1., 1.,\n",
       "         1., 1., 1., 1., 1., 1., 1., 1., 1., 1., 1., 1., 1., 1., 1., 1., 1., 1.,\n",
       "         1., 1., 1., 1., 1., 1., 1., 1., 1., 1., 1., 1., 1., 1., 1., 1., 1., 1.,\n",
       "         1., 1., 1., 1., 1., 1., 1., 1., 1., 1.]),\n",
       " tensor([1., 1., 1., 1., 1., 1., 1., 1., 1., 1., 1., 1., 1., 1., 1., 1., 1., 1.,\n",
       "         1., 1., 1., 1., 1., 1., 1., 1., 1., 1., 1., 1., 1., 1., 1., 1., 1., 1.,\n",
       "         1., 1., 1., 1., 1., 1., 1., 1., 1., 1., 1., 1., 1., 1.]),\n",
       " tensor([1., 1., 1., 1., 1., 1., 1., 1., 1., 1.]),\n",
       " tensor([1., 1., 1., 1., 1., 1., 1., 1., 1., 1., 1., 1., 1., 1., 1., 1., 1., 1.,\n",
       "         1., 1., 1., 1., 1., 1., 1., 1., 1., 1., 1., 1., 1., 1., 1., 1., 1., 1.,\n",
       "         1., 1., 1., 1., 1., 1., 1., 1., 1., 1., 1., 1., 1., 1., 1., 1., 1., 1.,\n",
       "         1.]),\n",
       " tensor([1., 1., 1., 1., 1.]),\n",
       " tensor([[ 2, 50]], dtype=torch.int32),\n",
       " tensor([[20, 50]], dtype=torch.int32),\n",
       " tensor([[ 1, 50]], dtype=torch.int32),\n",
       " tensor([[2, 5]], dtype=torch.int32),\n",
       " tensor([[11,  5]], dtype=torch.int32),\n",
       " tensor([[1, 5]], dtype=torch.int32))"
      ]
     },
     "execution_count": 18,
     "metadata": {},
     "output_type": "execute_result"
    }
   ],
   "source": [
    "inputs"
   ]
  },
  {
   "cell_type": "code",
   "execution_count": 19,
   "id": "d5dde056",
   "metadata": {},
   "outputs": [
    {
     "name": "stdout",
     "output_type": "stream",
     "text": [
      "['pf_points', 'pf_features', 'pf_mask', 'sv_points', 'sv_features', 'sv_mask', 'batch_shapes_pf_points', 'batch_shapes_pf_features', 'batch_shapes_pf_mask', 'batch_shapes_sv_points', 'batch_shapes_sv_features', 'batch_shapes_sv_mask']\n"
     ]
    }
   ],
   "source": [
    "print (model_info['input_names'])"
   ]
  },
  {
   "cell_type": "code",
   "execution_count": 20,
   "id": "25f9f216",
   "metadata": {},
   "outputs": [
    {
     "name": "stdout",
     "output_type": "stream",
     "text": [
      "Shape pf_features -  torch.Size([1, 20, 50])\n",
      "Shape pf points -  torch.Size([1, 2, 50])\n",
      "Shape pf mask -  torch.Size([1, 1, 50])\n",
      "Shape sv features -  torch.Size([1, 11, 5])\n",
      "Shape sv points -  torch.Size([1, 2, 5])\n",
      "Shape sv mask shape -  torch.Size([1, 1, 5])\n"
     ]
    }
   ],
   "source": [
    "torch.onnx.export(model, inputs, export_onnx,\n",
    "                  input_names=model_info['input_names'],\n",
    "                  output_names=model_info['output_names'],\n",
    "                  dynamic_axes=model_info.get('dynamic_axes', None),\n",
    "                  opset_version=13)"
   ]
  },
  {
   "cell_type": "code",
   "execution_count": 21,
   "id": "aec9060d",
   "metadata": {},
   "outputs": [
    {
     "name": "stdout",
     "output_type": "stream",
     "text": [
      "Shape pf_features -  torch.Size([1, 20, 50])\n",
      "Shape pf points -  torch.Size([1, 2, 50])\n",
      "Shape pf mask -  torch.Size([1, 1, 50])\n",
      "Shape sv features -  torch.Size([1, 11, 5])\n",
      "Shape sv points -  torch.Size([1, 2, 5])\n",
      "Shape sv mask shape -  torch.Size([1, 1, 5])\n"
     ]
    },
    {
     "data": {
      "text/plain": [
       "tensor([[0.1255, 0.1314, 0.1206, 0.1265, 0.1186, 0.1270, 0.1324, 0.1180]],\n",
       "       grad_fn=<SoftmaxBackward0>)"
      ]
     },
     "execution_count": 21,
     "metadata": {},
     "output_type": "execute_result"
    }
   ],
   "source": [
    "model(*inputs)"
   ]
  },
  {
   "cell_type": "code",
   "execution_count": null,
   "id": "bd6a5722",
   "metadata": {},
   "outputs": [],
   "source": []
  }
 ],
 "metadata": {
  "kernelspec": {
   "display_name": "Python 3 (ipykernel)",
   "language": "python",
   "name": "python3"
  },
  "language_info": {
   "codemirror_mode": {
    "name": "ipython",
    "version": 3
   },
   "file_extension": ".py",
   "mimetype": "text/x-python",
   "name": "python",
   "nbconvert_exporter": "python",
   "pygments_lexer": "ipython3",
   "version": "3.8.2"
  }
 },
 "nbformat": 4,
 "nbformat_minor": 5
}
